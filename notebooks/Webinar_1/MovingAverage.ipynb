{
 "metadata": {
  "language_info": {
   "codemirror_mode": {
    "name": "ipython",
    "version": 3
   },
   "file_extension": ".py",
   "mimetype": "text/x-python",
   "name": "python",
   "nbconvert_exporter": "python",
   "pygments_lexer": "ipython3",
   "version": "3.7.1-final"
  },
  "orig_nbformat": 2,
  "kernelspec": {
   "name": "python_defaultSpec_1595870860681",
   "display_name": "Python 3.7.1 64-bit ('bqnt-2.227.0': conda)"
  }
 },
 "nbformat": 4,
 "nbformat_minor": 2,
 "cells": [
  {
   "cell_type": "markdown",
   "metadata": {},
   "source": [
    "# Trading signals: Moving Average (MA)"
   ]
  },
  {
   "cell_type": "markdown",
   "metadata": {},
   "source": [
    "## What is a Moving Average ?\n",
    "The moving average (MA) is a simple technical analysis tool that smooths out price data by creating a constantly updated average price. The average is taken over a specific period of time, like 10 days, 20 minutes, 30 weeks or any time period the trader chooses. \n",
    "\n",
    "Moving average strategies are also popular and can be tailored to any time frame, suiting both long-term investors and short-term traders."
   ]
  },
  {
   "cell_type": "markdown",
   "metadata": {},
   "source": [
    "## Why Use a Moving Average ? \n",
    "A moving average helps cut down the amount of \"noise\" on a price chart. Look at the direction of the moving average to get a basic idea of which way the price is moving. If it is angled up, the price is moving up (or was recently) overall; angled down, and the price is moving down overall; moving sideways, and the price is likely in a range."
   ]
  },
  {
   "cell_type": "markdown",
   "metadata": {},
   "source": [
    "## Trading Strategies—Crossover\n",
    "\n",
    "The most relevant crossover trading strategy consiste in applying two moving averages to a price time serie: one longer and one shorter. \n",
    "\n",
    "When the shorter-term MA crosses above the longer-term MA, it's a buy signal, as it indicates that the trend is shifting up. This is known as a \"golden cross.\"\n",
    "\n",
    "Meanwhile, when the shorter-term MA crosses below the longer-term MA, it's a sell signal, as it indicates that the trend is shifting down. This is known as a \"dead/death cross.\""
   ]
  },
  {
   "cell_type": "code",
   "execution_count": 1,
   "metadata": {},
   "outputs": [],
   "source": [
    "import pandas as pd\n",
    "from ipywidgets import ToggleButtons, VBox, HTML\n",
    "import bqplot as bqp\n",
    "import numpy as np\n",
    "from ipywidgets import SelectMultiple, SelectionRangeSlider, HTML, GridBox\n",
    "from itertools import cycle"
   ]
  },
  {
   "cell_type": "code",
   "execution_count": 2,
   "metadata": {},
   "outputs": [],
   "source": [
    "dataframe = pd.read_csv('../data/TSLA.csv')\n",
    "dataframe.set_index('Date', inplace=True)\n",
    "dataframe.drop('Volume',axis=1,inplace=True)"
   ]
  },
  {
   "cell_type": "code",
   "execution_count": 3,
   "metadata": {},
   "outputs": [
    {
     "output_type": "execute_result",
     "data": {
      "text/plain": "                 Open   High        Low      Close  Adj Close\nDate                                                         \n2010-06-29  19.000000  25.00  17.540001  23.889999  23.889999\n2010-06-30  25.790001  30.42  23.299999  23.830000  23.830000\n2010-07-01  25.000000  25.92  20.270000  21.959999  21.959999\n2010-07-02  23.000000  23.10  18.709999  19.200001  19.200001\n2010-07-06  20.000000  20.00  15.830000  16.110001  16.110001",
      "text/html": "<div>\n<style scoped>\n    .dataframe tbody tr th:only-of-type {\n        vertical-align: middle;\n    }\n\n    .dataframe tbody tr th {\n        vertical-align: top;\n    }\n\n    .dataframe thead th {\n        text-align: right;\n    }\n</style>\n<table border=\"1\" class=\"dataframe\">\n  <thead>\n    <tr style=\"text-align: right;\">\n      <th></th>\n      <th>Open</th>\n      <th>High</th>\n      <th>Low</th>\n      <th>Close</th>\n      <th>Adj Close</th>\n    </tr>\n    <tr>\n      <th>Date</th>\n      <th></th>\n      <th></th>\n      <th></th>\n      <th></th>\n      <th></th>\n    </tr>\n  </thead>\n  <tbody>\n    <tr>\n      <th>2010-06-29</th>\n      <td>19.000000</td>\n      <td>25.00</td>\n      <td>17.540001</td>\n      <td>23.889999</td>\n      <td>23.889999</td>\n    </tr>\n    <tr>\n      <th>2010-06-30</th>\n      <td>25.790001</td>\n      <td>30.42</td>\n      <td>23.299999</td>\n      <td>23.830000</td>\n      <td>23.830000</td>\n    </tr>\n    <tr>\n      <th>2010-07-01</th>\n      <td>25.000000</td>\n      <td>25.92</td>\n      <td>20.270000</td>\n      <td>21.959999</td>\n      <td>21.959999</td>\n    </tr>\n    <tr>\n      <th>2010-07-02</th>\n      <td>23.000000</td>\n      <td>23.10</td>\n      <td>18.709999</td>\n      <td>19.200001</td>\n      <td>19.200001</td>\n    </tr>\n    <tr>\n      <th>2010-07-06</th>\n      <td>20.000000</td>\n      <td>20.00</td>\n      <td>15.830000</td>\n      <td>16.110001</td>\n      <td>16.110001</td>\n    </tr>\n  </tbody>\n</table>\n</div>"
     },
     "metadata": {},
     "execution_count": 3
    }
   ],
   "source": [
    "dataframe.head()"
   ]
  },
  {
   "cell_type": "markdown",
   "metadata": {},
   "source": [
    "Generation of random data and plot creation"
   ]
  },
  {
   "cell_type": "code",
   "execution_count": 11,
   "metadata": {},
   "outputs": [
    {
     "output_type": "display_data",
     "data": {
      "text/plain": "GridBox(children=(Figure(animation_duration=500, axes=[Axis(scale=DateScale()), Axis(label='Returns', label_of…",
      "application/vnd.jupyter.widget-view+json": {
       "version_major": 2,
       "version_minor": 0,
       "model_id": "10dab98df3104480b215b2a9d782a2e2"
      }
     },
     "metadata": {}
    }
   ],
   "source": [
    "\n",
    "# Generate some random data to work with\n",
    "np.random.seed(5)\n",
    "dates = pd.date_range(end='2019-01-01', periods=120, freq='M')\n",
    "columns = ['Security 1', 'Security 2', 'Security 3', 'Security 4']\n",
    "\n",
    "dataframe = pd.DataFrame(np.random.randn(120,4),\n",
    "                         index=dates,\n",
    "                         columns=columns).cumsum() / 100\n",
    "\n",
    "# Define colors to be usedGe\n",
    "colors = ['#1B84ED', '#CF7DFF', '#FF5A00', '#00D3D6']\n",
    "\n",
    "# Create scales\n",
    "scale_x = bqp.DateScale()\n",
    "scale_y = bqp.LinearScale()\n",
    "\n",
    "# Create Lines mark\n",
    "mark_line = bqp.Lines(x=dataframe.index,\n",
    "                      y=[dataframe[col] for col in dataframe.columns],\n",
    "                      scales={'x': scale_x, 'y': scale_y},\n",
    "                      colors=colors,\n",
    "                      labels=['Security 1', 'Security 2',\n",
    "                              'Security 3', 'Security 4'],\n",
    "                      display_legend=True)\n",
    "\n",
    "# Create Scatter mark to display tooltips\n",
    "scatter_df = pd.melt(dataframe.reset_index(),\n",
    "                     id_vars=['index'],\n",
    "                     var_name='column')\n",
    "mark_scatter = bqp.Scatter(x=scatter_df['index'],\n",
    "                           y=scatter_df['value'],\n",
    "                           skew=scatter_df['column'],\n",
    "                           scales={'x': scale_x, 'y': scale_y},\n",
    "                           # Stop points from being visible\n",
    "                           default_opacities=[0],\n",
    "                           tooltip=bqp.Tooltip(fields=['y', 'skew', 'x'],\n",
    "                                               formats=['.3%', '',\n",
    "                                                        '%m/%d/%Y'],\n",
    "                                               show_labels=False))\n",
    "\n",
    "# Create Axes\n",
    "axis_x = bqp.Axis(scale=scale_x)\n",
    "axis_y = bqp.Axis(scale=scale_y,\n",
    "                  orientation='vertical',\n",
    "                  label='Returns',\n",
    "                  side='right',\n",
    "                  tick_format='.2%',\n",
    "                  label_offset='4em')\n",
    "\n",
    "# Create Figure\n",
    "figure_main = bqp.Figure(marks=[mark_line, mark_scatter],\n",
    "                         axes=[axis_x, axis_y],\n",
    "                         title='Time series data',\n",
    "                         layout={'width':'99%',\n",
    "                                 'height':'450px',\n",
    "                                 'grid_area':'plot'},\n",
    "                         title_style={'font-size': '20px'},\n",
    "                         legend_location='top-left',\n",
    "                         legend_style={'stroke': 'none'},\n",
    "                         animation_duration=500,\n",
    "                         fig_margin={'top': 60, 'bottom': 30,\n",
    "                                     'left': 10, 'right': 80})\n",
    "\n",
    "# Create widgets\n",
    "widget_fieldselect = SelectMultiple(options=dataframe.columns,\n",
    "                                    layout={'grid_area': 'columns'})\n",
    "widget_rangeselect = SelectionRangeSlider(options=dataframe.index,\n",
    "                                          readout=False,\n",
    "                                          value=[dataframe.index[0],\n",
    "                                                 dataframe.index[-1]],\n",
    "                                          layout={'width':'99%',\n",
    "                                                  'grid_area':'range'})\n",
    "\n",
    "widget_html = HTML('', layout={'grid_area': 'display'})\n",
    "\n",
    "# Create color map, so that columns will always be the same color\n",
    "color_cycle = cycle(colors)\n",
    "color_map = {col:next(color_cycle) for col in dataframe.columns}\n",
    "\n",
    "# Define callback functions for the widgets\n",
    "def update_range(evt):\n",
    "    min_val, max_val = evt['new']\n",
    "    scale_x.min = min_val\n",
    "    scale_x.max = max_val\n",
    "    widget_html.value = ('<center>{:%Y-%m-%d} - '\n",
    "                         '{:%Y-%m-%d}</center>').format(min_val, max_val)\n",
    "\n",
    "def update_columns(evt):\n",
    "    new_columns = evt['new']\n",
    "    # Update Lines\n",
    "    mark_line.y = [dataframe[col] for col in new_columns]\n",
    "    mark_line.labels = new_columns\n",
    "    mark_line.colors = [color_map[col] for col in new_columns]\n",
    "\n",
    "    # Update Scatter\n",
    "    new_dataframe = scatter_df[scatter_df['column'].isin(new_columns)]\n",
    "    mark_scatter.x = new_dataframe['index']\n",
    "    mark_scatter.y = new_dataframe['value']\n",
    "    mark_scatter.skew = new_dataframe['column']\n",
    "\n",
    "# Bind callbacks to the widgets\n",
    "widget_rangeselect.observe(update_range, names=['value'])\n",
    "widget_fieldselect.observe(update_columns, names=['value'])\n",
    "\n",
    "\n",
    "# Create GridBox layout\n",
    "grid = GridBox(children=[figure_main, widget_fieldselect,\n",
    "                         widget_html, widget_rangeselect],\n",
    "               layout={'width': '100%',\n",
    "                       'grid_template_rows': 'auto auto auto',\n",
    "                       'grid_gap': '5px',\n",
    "                       'overflow_x': 'hidden',\n",
    "                       'grid_template_columns': 'min-content auto',\n",
    "                       'grid_template_areas': '''\n",
    "                           \"plot plot\"\n",
    "                           \"columns range\"\n",
    "                           \"columns display\"'''})\n",
    "# Display the visualizaiton\n",
    "grid\n"
   ]
  },
  {
   "cell_type": "code",
   "execution_count": null,
   "metadata": {},
   "outputs": [],
   "source": []
  }
 ]
}