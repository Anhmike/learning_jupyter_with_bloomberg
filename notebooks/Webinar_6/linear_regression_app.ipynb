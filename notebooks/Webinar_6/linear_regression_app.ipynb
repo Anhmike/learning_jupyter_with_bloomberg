{
 "cells": [
  {
   "cell_type": "markdown",
   "metadata": {},
   "source": [
    "[Credit goes to Chakri @ https://github.com/ChakriCherukuri/mlviz](https://github.com/ChakriCherukuri/mlviz)"
   ]
  },
  {
   "cell_type": "markdown",
   "metadata": {},
   "source": [
    "# Linear Regression Visualization App"
   ]
  },
  {
   "cell_type": "code",
   "execution_count": 2,
   "metadata": {},
   "outputs": [
    {
     "data": {
      "application/vnd.jupyter.widget-view+json": {
       "model_id": "b8c889ee20cc44cdb83afb6a413a956c",
       "version_major": 2,
       "version_minor": 0
      },
      "text/plain": [
       "VBox(children=(Figure(animation_duration=1000, axes=[Axis(label='X', scale=LinearScale(max=30.0, min=-30.0)), …"
      ]
     },
     "metadata": {},
     "output_type": "display_data"
    }
   ],
   "source": [
    "import numpy as np\n",
    "\n",
    "from ipywidgets import Button, VBox, HBox, Label\n",
    "import bqplot.pyplot as plt\n",
    "from bqplot import LinearScale\n",
    "\n",
    "def linreg(x, y):\n",
    "    '''\n",
    "    computes intercept and slope for a simple\n",
    "    ols regression\n",
    "    '''\n",
    "    b = np.cov(x, y)[0, 1] / np.var(x)\n",
    "    a = np.mean(y) - b * np.mean(x)\n",
    "    return a, b\n",
    "\n",
    "x = np.linspace(-10, 10, 50)\n",
    "y = 5 * x + 7 + np.random.randn(50) * 20\n",
    "\n",
    "def update_regline(*args):\n",
    "    # update the y attribute of the reg_line with \n",
    "    # the results of running the ols regression on \n",
    "    # x and y attributes of the scatter plot\n",
    "    a, b = linreg(scatter.x, scatter.y)\n",
    "    reg_line.y = a + b * reg_line.x\n",
    "    \n",
    "    # update the equation label\n",
    "    equation_label.value = eqn_tmpl.format(a, b)\n",
    "\n",
    "# Add a scatter plot and a regression line on the same figure\n",
    "axes_options = {'x': {'label': 'X'},\n",
    "                'y': {'label': 'Y'}}\n",
    "fig = plt.figure(title='Linear Regression', animation_duration=1000)\n",
    "                 \n",
    "plt.scales(scales={'x': LinearScale(min=-30, max=30),\n",
    "                   'y': LinearScale(min=-150, max=150)})\n",
    "\n",
    "scatter = plt.scatter(x, y, colors=['orangered'], default_size=100, \n",
    "                      enable_move=True, interactions={'click': 'add'},\n",
    "                      stroke='black')\n",
    "reg_line = plt.plot(np.arange(-30, 31), [], 'g', stroke_width=8,\n",
    "                    opacities=[.5], axes_options=axes_options)\n",
    "\n",
    "fig.layout.width = '800px'\n",
    "fig.layout.height = '550px'\n",
    "\n",
    "reset_button = Button(description='Reset', button_style='success')\n",
    "reset_button.layout.margin = '0px 30px 0px 60px'\n",
    "\n",
    "eqn_tmpl = 'Regression Line: ${:.2f} + {:.2f}x$'\n",
    "equation_label = Label()\n",
    "\n",
    "def reset_points(*args):\n",
    "    '''\n",
    "    resets the scatter's x and y points \n",
    "    to the original values\n",
    "    '''\n",
    "    with scatter.hold_trait_notifications():\n",
    "        scatter.x = x\n",
    "        scatter.y = y\n",
    "\n",
    "# on button click reset the scatter points\n",
    "reset_button.on_click(lambda btn: reset_points())\n",
    "# recompute reg line when new points are added\n",
    "scatter.observe(update_regline, ['x', 'y'])\n",
    "\n",
    "# compute the reg line\n",
    "update_regline(None)\n",
    "\n",
    "VBox([fig, HBox([reset_button, equation_label])])"
   ]
  }
 ],
 "metadata": {
  "kernelspec": {
   "display_name": "Python 3",
   "language": "python",
   "name": "python3"
  },
  "language_info": {
   "codemirror_mode": {
    "name": "ipython",
    "version": 3
   },
   "file_extension": ".py",
   "mimetype": "text/x-python",
   "name": "python",
   "nbconvert_exporter": "python",
   "pygments_lexer": "ipython3",
   "version": "3.8.5"
  }
 },
 "nbformat": 4,
 "nbformat_minor": 4
}
