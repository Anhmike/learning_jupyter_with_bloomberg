{
 "cells": [
  {
   "cell_type": "markdown",
   "metadata": {},
   "source": [
    "<span style=\"color:darkorange; font-size:60px\">Learn Jupyter with Bloomberg</span>\n",
    "\n",
    "<span style=\"color:lightblue; font-size:30px\">Dashboarding with Voila</span>"
   ]
  },
  {
   "cell_type": "markdown",
   "metadata": {},
   "source": [
    "#### Installation instructions for Voila, if you are using local installation of this repo:\n",
    "with the `conda` package manager:\n",
    "\n",
    "* `conda install -c conda-forge voila`\n",
    "\n",
    "or from `PyPI`\n",
    "\n",
    "* `pip install voila`\n",
    "\n",
    "\n",
    "<span style=\"color: orange; font-size:18px; font-weight: light;\">We recommend installing with conda if possible!</span>"
   ]
  },
  {
   "cell_type": "markdown",
   "metadata": {},
   "source": [
    "<span style=\"color: white; font-size:24px\">As previously mentioned, Voila has two running modes:</span>\n",
    "\n",
    "1. Standalone\n",
    "2. As a part of your existing Jupyter installation."
   ]
  },
  {
   "cell_type": "markdown",
   "metadata": {},
   "source": [
    "<span style=\"color: pink; font-size:24px\">If you are using the pre-configured online environment, Voila is installed and you can try out the Jupyter mode right now!</span>"
   ]
  },
  {
   "cell_type": "markdown",
   "metadata": {},
   "source": [
    "It is likely the current address you're viewing in your browser has the following form:\n",
    "\n",
    "`https://notebooks.gesis.org/binder/jupyter/user/ibdafna-learnin-_with_bloomberg-xxxxxxxx/lab/`\n",
    "\n",
    "Simply replace the `/lab` ending with `/voila` and you should be able to see the voila renderer!"
   ]
  }
 ],
 "metadata": {
  "kernelspec": {
   "display_name": "Python 3",
   "language": "python",
   "name": "python3"
  },
  "language_info": {
   "codemirror_mode": {
    "name": "ipython",
    "version": 3
   },
   "file_extension": ".py",
   "mimetype": "text/x-python",
   "name": "python",
   "nbconvert_exporter": "python",
   "pygments_lexer": "ipython3",
   "version": "3.8.5"
  }
 },
 "nbformat": 4,
 "nbformat_minor": 4
}
