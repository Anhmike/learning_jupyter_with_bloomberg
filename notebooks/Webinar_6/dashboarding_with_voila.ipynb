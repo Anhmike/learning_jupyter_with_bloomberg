{
 "cells": [
  {
   "cell_type": "markdown",
   "metadata": {},
   "source": [
    "<span style=\"color:darkorange; font-size:60px\">Learn Jupyter with Bloomberg</span>\n",
    "\n",
    "<span style=\"color:lightblue; font-size:30px\">Dashboarding with Voila</span>"
   ]
  },
  {
   "cell_type": "markdown",
   "metadata": {},
   "source": [
    "#### Installation instructions for Voila, if you are using local installation of this repo:\n",
    "with the `conda` package manager:\n",
    "\n",
    "* `conda install -c conda-forge voila`\n",
    "\n",
    "or from `PyPI`\n",
    "\n",
    "* `pip install voila`\n",
    "\n",
    "\n",
    "<span style=\"color: orange; font-size:18px; font-weight: light;\">We recommend installing with conda if possible!</span>"
   ]
  },
  {
   "cell_type": "markdown",
   "metadata": {},
   "source": [
    "<span style=\"color: white; font-size:24px\">As previously mentioned, Voila has two running modes:</span>\n",
    "\n",
    "1. Standalone\n",
    "2. As a part of your existing Jupyter installation."
   ]
  },
  {
   "cell_type": "markdown",
   "metadata": {},
   "source": [
    "<span style=\"color: pink; font-size:24px\">If you are using the pre-configured online environment, Voila is installed and you can try out the Jupyter mode right now!</span>"
   ]
  },
  {
   "cell_type": "markdown",
   "metadata": {},
   "source": [
    "It is likely the current address you're viewing in your browser has the following form:\n",
    "\n",
    "`https://notebooks.gesis.org/binder/jupyter/user/ibdafna-learnin-_with_bloomberg-xxxxxxxx/lab/`\n",
    "\n",
    "Simply replace the `/lab` ending with `/voila` and you should be able to see the voila renderer!"
   ]
  },
  {
   "cell_type": "markdown",
   "metadata": {},
   "source": [
    "<span style=\"color: orange; font-size:18px\">You can also enable `dark mode` by appending `?voila-theme=dark` to the currently displayed voila app web-address:</span>\n",
    "\n",
    "`https://xxxx.org/user/xxxxxx/voila/render/some_application.ipynb?voila-theme=dark`"
   ]
  },
  {
   "cell_type": "markdown",
   "metadata": {},
   "source": [
    "<span style=\"color: limegreen; font-size:18px\">...and that's all you had to do to convert your Jupyter application to a dashboard!</span>"
   ]
  },
  {
   "cell_type": "markdown",
   "metadata": {},
   "source": [
    "## Let's try it with the two applications in folder of this tutorial file!"
   ]
  },
  {
   "cell_type": "markdown",
   "metadata": {},
   "source": [
    "-----------------------------\n",
    "### Templating: \n",
    "\n",
    "\n",
    "'Grid Stack' template (runs only in a local installation): \n",
    "\n",
    "1. `conda install -c conda-forge voila-gridstack` (install)\n",
    "2. `voila --template=gridstack . --VoilaConfiguration.resources='{\"gridstack\": {\"show_handles\": True}}' --theme=dark` (run)\n",
    "\n",
    "\n",
    "'Voila-vuetify' template (runs only in a local installation): \n",
    "\n",
    "1. `conda install -c conda-forge voila-vuetify` (install)\n",
    "2. `voila --template=vuetify-default --theme=light` (run)\n",
    "\n",
    "<span style=\"color: orange; font-size:16px\">To use these templates in the Jupyter environment, append `?voila-template=<tamplate_of_choice>` to the address of the running voila app.</span>"
   ]
  },
  {
   "cell_type": "markdown",
   "metadata": {},
   "source": [
    "<span style=\"color: orange; font-size:16px\">You can read more about templating in voila</span> [in the documentation link](https://voila.readthedocs.io/en/stable/)"
   ]
  },
  {
   "cell_type": "markdown",
   "metadata": {},
   "source": [
    "-----------------------------\n",
    "### Deployment:\n",
    "\n",
    "<span style=\"color: orange; font-size:16px\">The \"Learn Jupyter with Bloomberg\" is also configured to work as a Voila Binder deployment.</span> [Let's check it out together](https://github.com/ibdafna/learning_jupyter_with_bloomberg) \n",
    "\n",
    "Once you have followed the \"Setting up your repo for Binder\" [instructions](https://mybinder.readthedocs.io/en/latest/introduction.html#preparing-a-repository-for-binder) (you can also look at the structure of the \"Learn Jupyter with Bloomberg\" repo), the final step is to add the basic configuration file which tells voila what theme, template and other configuration to use:\n",
    "\n",
    "```json\n",
    "{\n",
    "  \"VoilaConfiguration\": {\n",
    "    \"theme\": \"dark\",\n",
    "    \"template\": \"gridstack\"\n",
    "  }\n",
    "}\n",
    "```\n",
    "\n",
    "This example uses the dark theme with the gridstack template. Name this file `jupyter_config.json` and add it to the root of your repo!"
   ]
  },
  {
   "cell_type": "code",
   "execution_count": null,
   "metadata": {},
   "outputs": [],
   "source": []
  }
 ],
 "metadata": {
  "kernelspec": {
   "display_name": "Python 3",
   "language": "python",
   "name": "python3"
  },
  "language_info": {
   "codemirror_mode": {
    "name": "ipython",
    "version": 3
   },
   "file_extension": ".py",
   "mimetype": "text/x-python",
   "name": "python",
   "nbconvert_exporter": "python",
   "pygments_lexer": "ipython3",
   "version": "3.8.5"
  }
 },
 "nbformat": 4,
 "nbformat_minor": 4
}
