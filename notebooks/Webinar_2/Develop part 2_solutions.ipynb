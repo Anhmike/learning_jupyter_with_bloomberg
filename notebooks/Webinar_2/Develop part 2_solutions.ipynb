{
 "cells": [
  {
   "cell_type": "markdown",
   "metadata": {},
   "source": [
    "## Pandas First Steps\n",
    "\n",
    "### Install and Import\n",
    "\n",
    "Pandas can easily be install via\n",
    "    \n",
    "`conda install pandas`  or  `pip install pandas`\n",
    "\n",
    "If you are using the `Binder` repertoir we prepared for you, or you created your \n",
    "own local intallation, pandas should already be installed.\n",
    "\n",
    "Now we usally import pandas using a shorter name just like below:"
   ]
  },
  {
   "cell_type": "code",
   "execution_count": null,
   "metadata": {},
   "outputs": [],
   "source": [
    "import pandas as pd"
   ]
  },
  {
   "cell_type": "markdown",
   "metadata": {},
   "source": [
    "### Series and DataFrames\n",
    "\n",
    "Series and DataFrames are the two primary components/ data structure of pandas.\n",
    "\n",
    "- A `Series` is a  a one-dimensional labeled array capable of holding any data type\n",
    "- A `DataFrame` is multi-dimensional table made up of a collection of `Series`"
   ]
  },
  {
   "cell_type": "markdown",
   "metadata": {},
   "source": [
    "![title](img/dataFrame.png)"
   ]
  },
  {
   "cell_type": "markdown",
   "metadata": {},
   "source": [
    "`DataFrames` and `Series` are quite similar in that many operations that you can do with one you can do with the other. (e.g. filling in null values or calculating the mean)"
   ]
  },
  {
   "cell_type": "markdown",
   "metadata": {},
   "source": [
    "## How we incorporate data in JupyterLab\n",
    "\n",
    "#### 1. Creating manually your data \n",
    "\n",
    "You can manually create your data set by creating directly a `DataFrame` in python. There is many different way to do this. Example:"
   ]
  },
  {
   "cell_type": "code",
   "execution_count": null,
   "metadata": {},
   "outputs": [],
   "source": [
    "data = {\n",
    "    'pears' : [12, 34, 7, 6, 9],\n",
    "    'apple' : [32, 3, 54, 6, 24]\n",
    "}\n",
    "\n",
    "data_df = pd.DataFrame(data)\n",
    "data_df"
   ]
  },
  {
   "cell_type": "markdown",
   "metadata": {},
   "source": [
    "### 2. Using a CSV file as your data source\n",
    "\n",
    "Here we are going use the a CSV file which cointain the list of TV shows and movies available on Netflix as of 2019."
   ]
  },
  {
   "cell_type": "code",
   "execution_count": null,
   "metadata": {},
   "outputs": [],
   "source": [
    "# Let's use pandas to access some data in a CSV file\n",
    "pd.read_csv('./data/Netflix_data/titles.csv')"
   ]
  },
  {
   "cell_type": "markdown",
   "metadata": {},
   "source": [
    "### 3. Using an Excel file as your data source"
   ]
  },
  {
   "cell_type": "code",
   "execution_count": null,
   "metadata": {},
   "outputs": [],
   "source": [
    "# Let's use pandas to access some data in a CSV file\n"
   ]
  },
  {
   "cell_type": "code",
   "execution_count": null,
   "metadata": {},
   "outputs": [],
   "source": [
    "### 4. Using a JSON file as your data source\n",
    "*JSON* or JavaScript Object Notation is a open standard file format and data interchange format.\n",
    "JSON file uses human-readable text to store and transmit data ojetcs.\n",
    "These data objects consist of attribute-value pairs and data types. (Just like a dictionnary)\n",
    "\n",
    "Here is an example:\n",
    "    \n",
    "![title](img/json.png)\n"
   ]
  },
  {
   "cell_type": "code",
   "execution_count": 4,
   "metadata": {},
   "outputs": [],
   "source": [
    "# Let's use pandas to load a JSON file in Jupyter Lab (Wine data)\n",
    "a = pd.read_json('./data/Wine_data/winemag-data-130k-v2.json')"
   ]
  },
  {
   "cell_type": "code",
   "execution_count": 5,
   "metadata": {},
   "outputs": [
    {
     "data": {
      "text/html": [
       "<div>\n",
       "<style scoped>\n",
       "    .dataframe tbody tr th:only-of-type {\n",
       "        vertical-align: middle;\n",
       "    }\n",
       "\n",
       "    .dataframe tbody tr th {\n",
       "        vertical-align: top;\n",
       "    }\n",
       "\n",
       "    .dataframe thead th {\n",
       "        text-align: right;\n",
       "    }\n",
       "</style>\n",
       "<table border=\"1\" class=\"dataframe\">\n",
       "  <thead>\n",
       "    <tr style=\"text-align: right;\">\n",
       "      <th></th>\n",
       "      <th>country</th>\n",
       "      <th>description</th>\n",
       "      <th>designation</th>\n",
       "      <th>points</th>\n",
       "      <th>price</th>\n",
       "      <th>province</th>\n",
       "      <th>region_1</th>\n",
       "      <th>region_2</th>\n",
       "      <th>taster_name</th>\n",
       "      <th>taster_twitter_handle</th>\n",
       "      <th>title</th>\n",
       "      <th>variety</th>\n",
       "      <th>winery</th>\n",
       "    </tr>\n",
       "  </thead>\n",
       "  <tbody>\n",
       "    <tr>\n",
       "      <th>0</th>\n",
       "      <td>Italy</td>\n",
       "      <td>Aromas include tropical fruit, broom, brimston...</td>\n",
       "      <td>Vulkà Bianco</td>\n",
       "      <td>87</td>\n",
       "      <td>NaN</td>\n",
       "      <td>Sicily &amp; Sardinia</td>\n",
       "      <td>Etna</td>\n",
       "      <td>None</td>\n",
       "      <td>Kerin O’Keefe</td>\n",
       "      <td>@kerinokeefe</td>\n",
       "      <td>Nicosia 2013 Vulkà Bianco  (Etna)</td>\n",
       "      <td>White Blend</td>\n",
       "      <td>Nicosia</td>\n",
       "    </tr>\n",
       "    <tr>\n",
       "      <th>1</th>\n",
       "      <td>Portugal</td>\n",
       "      <td>This is ripe and fruity, a wine that is smooth...</td>\n",
       "      <td>Avidagos</td>\n",
       "      <td>87</td>\n",
       "      <td>15.0</td>\n",
       "      <td>Douro</td>\n",
       "      <td>None</td>\n",
       "      <td>None</td>\n",
       "      <td>Roger Voss</td>\n",
       "      <td>@vossroger</td>\n",
       "      <td>Quinta dos Avidagos 2011 Avidagos Red (Douro)</td>\n",
       "      <td>Portuguese Red</td>\n",
       "      <td>Quinta dos Avidagos</td>\n",
       "    </tr>\n",
       "    <tr>\n",
       "      <th>2</th>\n",
       "      <td>US</td>\n",
       "      <td>Tart and snappy, the flavors of lime flesh and...</td>\n",
       "      <td>None</td>\n",
       "      <td>87</td>\n",
       "      <td>14.0</td>\n",
       "      <td>Oregon</td>\n",
       "      <td>Willamette Valley</td>\n",
       "      <td>Willamette Valley</td>\n",
       "      <td>Paul Gregutt</td>\n",
       "      <td>@paulgwine</td>\n",
       "      <td>Rainstorm 2013 Pinot Gris (Willamette Valley)</td>\n",
       "      <td>Pinot Gris</td>\n",
       "      <td>Rainstorm</td>\n",
       "    </tr>\n",
       "    <tr>\n",
       "      <th>3</th>\n",
       "      <td>US</td>\n",
       "      <td>Pineapple rind, lemon pith and orange blossom ...</td>\n",
       "      <td>Reserve Late Harvest</td>\n",
       "      <td>87</td>\n",
       "      <td>13.0</td>\n",
       "      <td>Michigan</td>\n",
       "      <td>Lake Michigan Shore</td>\n",
       "      <td>None</td>\n",
       "      <td>Alexander Peartree</td>\n",
       "      <td>None</td>\n",
       "      <td>St. Julian 2013 Reserve Late Harvest Riesling ...</td>\n",
       "      <td>Riesling</td>\n",
       "      <td>St. Julian</td>\n",
       "    </tr>\n",
       "    <tr>\n",
       "      <th>4</th>\n",
       "      <td>US</td>\n",
       "      <td>Much like the regular bottling from 2012, this...</td>\n",
       "      <td>Vintner's Reserve Wild Child Block</td>\n",
       "      <td>87</td>\n",
       "      <td>65.0</td>\n",
       "      <td>Oregon</td>\n",
       "      <td>Willamette Valley</td>\n",
       "      <td>Willamette Valley</td>\n",
       "      <td>Paul Gregutt</td>\n",
       "      <td>@paulgwine</td>\n",
       "      <td>Sweet Cheeks 2012 Vintner's Reserve Wild Child...</td>\n",
       "      <td>Pinot Noir</td>\n",
       "      <td>Sweet Cheeks</td>\n",
       "    </tr>\n",
       "  </tbody>\n",
       "</table>\n",
       "</div>"
      ],
      "text/plain": [
       "    country                                        description  \\\n",
       "0     Italy  Aromas include tropical fruit, broom, brimston...   \n",
       "1  Portugal  This is ripe and fruity, a wine that is smooth...   \n",
       "2        US  Tart and snappy, the flavors of lime flesh and...   \n",
       "3        US  Pineapple rind, lemon pith and orange blossom ...   \n",
       "4        US  Much like the regular bottling from 2012, this...   \n",
       "\n",
       "                          designation  points  price           province  \\\n",
       "0                        Vulkà Bianco      87    NaN  Sicily & Sardinia   \n",
       "1                            Avidagos      87   15.0              Douro   \n",
       "2                                None      87   14.0             Oregon   \n",
       "3                Reserve Late Harvest      87   13.0           Michigan   \n",
       "4  Vintner's Reserve Wild Child Block      87   65.0             Oregon   \n",
       "\n",
       "              region_1           region_2         taster_name  \\\n",
       "0                 Etna               None       Kerin O’Keefe   \n",
       "1                 None               None          Roger Voss   \n",
       "2    Willamette Valley  Willamette Valley        Paul Gregutt   \n",
       "3  Lake Michigan Shore               None  Alexander Peartree   \n",
       "4    Willamette Valley  Willamette Valley        Paul Gregutt   \n",
       "\n",
       "  taster_twitter_handle                                              title  \\\n",
       "0          @kerinokeefe                  Nicosia 2013 Vulkà Bianco  (Etna)   \n",
       "1            @vossroger      Quinta dos Avidagos 2011 Avidagos Red (Douro)   \n",
       "2           @paulgwine       Rainstorm 2013 Pinot Gris (Willamette Valley)   \n",
       "3                  None  St. Julian 2013 Reserve Late Harvest Riesling ...   \n",
       "4           @paulgwine   Sweet Cheeks 2012 Vintner's Reserve Wild Child...   \n",
       "\n",
       "          variety               winery  \n",
       "0     White Blend              Nicosia  \n",
       "1  Portuguese Red  Quinta dos Avidagos  \n",
       "2      Pinot Gris            Rainstorm  \n",
       "3        Riesling           St. Julian  \n",
       "4      Pinot Noir         Sweet Cheeks  "
      ]
     },
     "execution_count": 5,
     "metadata": {},
     "output_type": "execute_result"
    }
   ],
   "source": [
    "a.head()"
   ]
  },
  {
   "cell_type": "markdown",
   "metadata": {},
   "source": [
    "### 5. Using a SQL database file as your data source: SQLite\n",
    "\n",
    "**SQLite** is a C library that provides a lightweight disk-based database that doesn’t require a \n",
    "separate server process and allows accessing the database using a nonstandard variant of the SQL query language."
   ]
  },
  {
   "cell_type": "code",
   "execution_count": null,
   "metadata": {},
   "outputs": [],
   "source": [
    "# # creation of local disk stick data base\n",
    "# import sqlite3\n",
    "# conn = sqlite3.connect('stocks.db')\n",
    "# c = conn.cursor()\n",
    "\n",
    "# # Create table\n",
    "# c.execute('''CREATE TABLE stocks\n",
    "#              (date text, trans text, symbol text, qty real, price real)''')\n",
    "\n",
    "# # Insert a row of data\n",
    "# c.execute(\"INSERT INTO stocks VALUES ('2006-01-05','BUY','RHAT',100,35.14)\")\n",
    "\n",
    "# # Save (commit) the changes\n",
    "# conn.commit()\n",
    "\n",
    "# # We can also close the connection if we are done with it.\n",
    "# # Just be sure any changes have been committed or they will be lost.\n",
    "# conn.close()\n",
    "# conn = sqlite3.connect('stocks.db')\n",
    "# c = conn.cursor()\n",
    "# symbol = 'RHAT'\n",
    "# c.execute(\"SELECT * FROM stocks WHERE symbol = '%s'\" % symbol)\n",
    "\n",
    "# # Do this instead\n",
    "# t = ('RHAT',)\n",
    "# c.execute('SELECT * FROM stocks WHERE symbol=?', t)\n",
    "# print(c.fetchone())\n",
    "\n",
    "# # Larger example that inserts many records at a time\n",
    "# purchases = [('2006-03-28', 'BUY', 'IBM', 1000, 45.00),\n",
    "#              ('2006-04-05', 'BUY', 'MSFT', 1000, 72.00),\n",
    "#              ('2006-04-06', 'SELL', 'IBM', 500, 53.00),\n",
    "#             ]\n",
    "# c.executemany('INSERT INTO stocks VALUES (?,?,?,?,?)', purchases)\n",
    "# conn.commit()\n",
    "\n",
    "# # Readign all teh data saved in the data base\n",
    "# for row in conn.execute('SELECT * FROM stocks ORDER BY price'):\n",
    "#     print(row)"
   ]
  },
  {
   "cell_type": "code",
   "execution_count": null,
   "metadata": {},
   "outputs": [],
   "source": [
    "import sqlite3\n",
    "conn = sqlite3.connect('stocks.db')"
   ]
  },
  {
   "cell_type": "code",
   "execution_count": null,
   "metadata": {},
   "outputs": [],
   "source": [
    "df = pd.read_sql_query(\"SELECT * FROM stocks\", conn)\n",
    "df"
   ]
  },
  {
   "cell_type": "markdown",
   "metadata": {},
   "source": [
    "### 6. Using a real SQL database: PostgreSQL\n",
    "\n",
    "**PostgreSQL** is a free an open0source relational database management system emphazing extensibility and SQL compliance.\n",
    "\n",
    "**psycopg2** is the most popular PostgreSQL database adapter for Python.\n"
   ]
  },
  {
   "cell_type": "code",
   "execution_count": null,
   "metadata": {},
   "outputs": [],
   "source": [
    "#!pip install psycopg2-binary"
   ]
  },
  {
   "cell_type": "code",
   "execution_count": null,
   "metadata": {},
   "outputs": [],
   "source": [
    "import psycopg2\n",
    "\n",
    "con = psycopg2.connect(database=\"dvdrental\", user=\"postgres\", password=\"a\", host=\"127.0.0.1\", port=\"5432\")\n",
    "print(\"Database opened successfully\")\n",
    "\n",
    "cur = con.cursor()\n",
    "cur.execute(\"SELECT * from actor\")\n",
    "rows = cur.fetchall()\n",
    "data = []\n",
    "for row in rows:\n",
    "    data.append(row)\n",
    "data_actor = pd.DataFrame(data,columns=['id','Name','Last name', 'Time']).set_index('id')\n"
   ]
  },
  {
   "cell_type": "markdown",
   "metadata": {},
   "source": [
    "### 7. Using an Application Programming Interface (API)\n",
    "\n",
    "APIs within a program are set of standards which permit outside software systems to request information from he original program\n",
    "\n",
    "For this example we are going to use the free API of **finnhub.io**\n"
   ]
  },
  {
   "cell_type": "code",
   "execution_count": null,
   "metadata": {},
   "outputs": [],
   "source": [
    "# Looking at the api documentation and leveraging the data\n",
    "import requests\n",
    "r = requests.get('https://finnhub.io/api/v1/stock/metric?symbol=AAPL&metric=all&token=')\n",
    "fi_df = r.json()"
   ]
  },
  {
   "cell_type": "code",
   "execution_count": null,
   "metadata": {},
   "outputs": [],
   "source": [
    "fi_df['metric']"
   ]
  },
  {
   "cell_type": "markdown",
   "metadata": {},
   "source": [
    "## Converting back to a CSV, JSON, SQL\n",
    "\n",
    "So after extensive work on cleaning your data, you’re now ready to save it as a file of your choice. Similar to the ways we read in data, pandas provides intuitive commands to save it:"
   ]
  },
  {
   "cell_type": "code",
   "execution_count": null,
   "metadata": {},
   "outputs": [],
   "source": [
    "data_actor.to_csv('new_purchases.csv')\n",
    "\n",
    "data_actor.to_json('new_purchases.json')\n",
    "\n",
    "data_actor.to_sql('actor', conn)"
   ]
  },
  {
   "cell_type": "code",
   "execution_count": null,
   "metadata": {},
   "outputs": [],
   "source": [
    "df = pd.read_sql_query(\"SELECT * FROM actor\", conn)\n",
    "df"
   ]
  },
  {
   "cell_type": "markdown",
   "metadata": {},
   "source": [
    "## Basic DataFrame operations\n",
    "\n",
    "DataFrames possess hundreds of methods and other operations that are crucial to any analysis. As a beginner, you should know the operations that perform simple transformations of your data and those that provide fundamental statistical analysis."
   ]
  },
  {
   "cell_type": "code",
   "execution_count": null,
   "metadata": {},
   "outputs": [],
   "source": [
    "### Viewing your data\n",
    "#     -head\n",
    "#     -tail\n",
    "#     -columns\n",
    "#     -index"
   ]
  }
 ],
 "metadata": {
  "kernelspec": {
   "display_name": "Python 3",
   "language": "python",
   "name": "python3"
  },
  "language_info": {
   "codemirror_mode": {
    "name": "ipython",
    "version": 3
   },
   "file_extension": ".py",
   "mimetype": "text/x-python",
   "name": "python",
   "nbconvert_exporter": "python",
   "pygments_lexer": "ipython3",
   "version": "3.6.5"
  }
 },
 "nbformat": 4,
 "nbformat_minor": 4
}
