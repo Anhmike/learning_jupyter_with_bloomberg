{
 "cells": [
  {
   "cell_type": "markdown",
   "metadata": {},
   "source": [
    "## Pandas First Steps\n",
    "\n",
    "### Install and Import\n",
    "\n",
    "Pandas can easily be install via\n",
    "    \n",
    "`conda install pandas`  or  `pip install pandas`\n",
    "\n",
    "If you are using the `Binder` repertoir we prepared for you, or you created your \n",
    "own local intallation, pandas should already be installed.\n",
    "\n",
    "Now we usally import pandas using a shorter name just like below:"
   ]
  },
  {
   "cell_type": "code",
   "execution_count": null,
   "metadata": {},
   "outputs": [],
   "source": []
  },
  {
   "cell_type": "markdown",
   "metadata": {},
   "source": [
    "### Series and DataFrames\n",
    "\n",
    "Series and DataFrames are the two primary components/ data structure of pandas.\n",
    "\n",
    "- A `Series` is a  a one-dimensional labeled array capable of holding any data type\n",
    "- A `DataFrame` is multi-dimensional table made up of a collection of `Series`"
   ]
  },
  {
   "cell_type": "markdown",
   "metadata": {},
   "source": [
    "![title](img/dataFrame.PNG)"
   ]
  },
  {
   "cell_type": "markdown",
   "metadata": {},
   "source": [
    "`DataFrames` and `Series` are quite similar in that many operations that you can do with one you can do with the other. (e.g. filling in null values or calculating the mean)"
   ]
  },
  {
   "cell_type": "code",
   "execution_count": null,
   "metadata": {},
   "outputs": [],
   "source": []
  },
  {
   "cell_type": "markdown",
   "metadata": {},
   "source": [
    "## How we incorporate data in JupyterLab\n",
    "\n",
    "#### 1. Creating manually your data \n",
    "\n",
    "You can manually create your data set by creating directly a `DataFrame` in python. There is many different way to do this. Example:"
   ]
  },
  {
   "cell_type": "code",
   "execution_count": null,
   "metadata": {},
   "outputs": [],
   "source": []
  },
  {
   "cell_type": "markdown",
   "metadata": {},
   "source": [
    "### 2. Using a CSV file as your data source\n",
    "\n",
    "Here we are going use the a CSV file which cointain the list of TV shows and movies available on Netflix as of 2019."
   ]
  },
  {
   "cell_type": "code",
   "execution_count": null,
   "metadata": {},
   "outputs": [],
   "source": [
    "# Let's use pandas to access some data in a CSV file\n"
   ]
  },
  {
   "cell_type": "markdown",
   "metadata": {},
   "source": [
    "### 3. Using an Excel file as your data source"
   ]
  },
  {
   "cell_type": "code",
   "execution_count": null,
   "metadata": {},
   "outputs": [],
   "source": [
    "# Let's use pandas to access some data in a CSV file\n"
   ]
  },
  {
   "cell_type": "markdown",
   "metadata": {},
   "source": [
    "### 4. Using a JSON file as your data source\n",
    "*JSON* or JavaScript Object Notation is a open standard file format and data interchange format.\n",
    "JSON file uses human-readable text to store and transmit data ojetcs.\n",
    "These data objects consist of attribute-value pairs and data types. (Just like a dictionnary)\n",
    "\n",
    "Here is an example:\n",
    "    \n",
    "![title](img/json.PNG)\n"
   ]
  },
  {
   "cell_type": "code",
   "execution_count": null,
   "metadata": {},
   "outputs": [],
   "source": [
    "# Let's use pandas to load a JSON file in Jupyter Lab (Wine data)\n"
   ]
  },
  {
   "cell_type": "markdown",
   "metadata": {},
   "source": [
    "### 5. Using a SQL database file as your data source: SQLite\n",
    "\n",
    "**SQLite** is a C library that provides a lightweight disk-based database that doesn’t require a \n",
    "separate server process and allows accessing the database using a nonstandard variant of the SQL query language."
   ]
  },
  {
   "cell_type": "code",
   "execution_count": null,
   "metadata": {},
   "outputs": [],
   "source": [
    "# # creation of local disk stick data base\n",
    "# import sqlite3\n",
    "# conn = sqlite3.connect('stocks.db')\n",
    "# c = conn.cursor()\n",
    "\n",
    "# # Create table\n",
    "# c.execute('''CREATE TABLE stocks\n",
    "#              (date text, trans text, symbol text, qty real, price real)''')\n",
    "\n",
    "# # Insert a row of data\n",
    "# c.execute(\"INSERT INTO stocks VALUES ('2006-01-05','BUY','RHAT',100,35.14)\")\n",
    "\n",
    "# # Save (commit) the changes\n",
    "# conn.commit()\n",
    "\n",
    "# # We can also close the connection if we are done with it.\n",
    "# # Just be sure any changes have been committed or they will be lost.\n",
    "# conn.close()\n",
    "# conn = sqlite3.connect('stocks.db')\n",
    "# c = conn.cursor()\n",
    "# symbol = 'RHAT'\n",
    "# c.execute(\"SELECT * FROM stocks WHERE symbol = '%s'\" % symbol)\n",
    "\n",
    "# # Do this instead\n",
    "# t = ('RHAT',)\n",
    "# c.execute('SELECT * FROM stocks WHERE symbol=?', t)\n",
    "# print(c.fetchone())\n",
    "\n",
    "# # Larger example that inserts many records at a time\n",
    "# purchases = [('2006-03-28', 'BUY', 'IBM', 1000, 45.00),\n",
    "#              ('2006-04-05', 'BUY', 'MSFT', 1000, 72.00),\n",
    "#              ('2006-04-06', 'SELL', 'IBM', 500, 53.00),\n",
    "#             ]\n",
    "# c.executemany('INSERT INTO stocks VALUES (?,?,?,?,?)', purchases)\n",
    "# conn.commit()\n",
    "\n",
    "# # Readign all teh data saved in the data base\n",
    "# for row in conn.execute('SELECT * FROM stocks ORDER BY price'):\n",
    "#     print(row)"
   ]
  },
  {
   "cell_type": "code",
   "execution_count": null,
   "metadata": {},
   "outputs": [],
   "source": []
  },
  {
   "cell_type": "markdown",
   "metadata": {},
   "source": [
    "### 6. Using a real SQL database: PostgreSQL\n",
    "\n",
    "**PostgreSQL** is a free an open source relational database management system emphazing extensibility and SQL compliance.\n",
    "\n",
    "**psycopg2** is the most popular PostgreSQL database adapter for Python.\n"
   ]
  },
  {
   "cell_type": "code",
   "execution_count": null,
   "metadata": {},
   "outputs": [],
   "source": []
  },
  {
   "cell_type": "markdown",
   "metadata": {},
   "source": [
    "### 7. Using an Application Programming Interface (API)\n",
    "\n",
    "APIs within a program are set of standards which permit outside software systems to request information from he original program\n",
    "\n",
    "For this example we are going to use the free API of **finnhub.io**\n"
   ]
  },
  {
   "cell_type": "code",
   "execution_count": null,
   "metadata": {},
   "outputs": [],
   "source": [
    "# Looking at the api documentation and leveraging the data\n"
   ]
  },
  {
   "cell_type": "markdown",
   "metadata": {},
   "source": [
    "## Converting back to a CSV, JSON, SQL\n",
    "\n",
    "So after extensive work on cleaning your data, you’re now ready to save it as a file of your choice. Similar to the ways we read in data, pandas provides intuitive commands to save it:"
   ]
  },
  {
   "cell_type": "code",
   "execution_count": null,
   "metadata": {},
   "outputs": [],
   "source": []
  },
  {
   "cell_type": "markdown",
   "metadata": {},
   "source": [
    "## Basic DataFrame operations\n",
    "\n",
    "DataFrames possess hundreds of methods and other operations that are crucial to any analysis. As a beginner, you should know the operations that perform simple transformations of your data and those that provide fundamental statistical analysis."
   ]
  },
  {
   "cell_type": "code",
   "execution_count": null,
   "metadata": {},
   "outputs": [],
   "source": [
    "### Viewing your data\n"
   ]
  }
 ],
 "metadata": {
  "kernelspec": {
   "display_name": "Python 3",
   "language": "python",
   "name": "python3"
  },
  "language_info": {
   "codemirror_mode": {
    "name": "ipython",
    "version": 3
   },
   "file_extension": ".py",
   "mimetype": "text/x-python",
   "name": "python",
   "nbconvert_exporter": "python",
   "pygments_lexer": "ipython3",
   "version": "3.8.5"
  }
 },
 "nbformat": 4,
 "nbformat_minor": 4
}
