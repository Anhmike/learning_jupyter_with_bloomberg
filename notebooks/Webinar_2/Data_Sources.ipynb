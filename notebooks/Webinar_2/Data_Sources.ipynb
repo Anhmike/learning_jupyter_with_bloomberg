{
 "cells": [
  {
   "cell_type": "markdown",
   "metadata": {},
   "source": [
    "## Pandas First Steps\n",
    "\n",
    "### Install and Import\n",
    "\n",
    "Pandas can easily be install via\n",
    "    \n",
    "`conda install pandas`  or  `pip install pandas`\n",
    "\n",
    "If you are using the `Binder` repertoir we prepared for you, or you created your \n",
    "own local intallation, pandas should already be installed.\n",
    "\n",
    "Now we usally import pandas using a shorter name just like below:"
   ]
  },
  {
   "cell_type": "code",
   "execution_count": 1,
   "metadata": {},
   "outputs": [],
   "source": [
    "import pandas as pd"
   ]
  },
  {
   "cell_type": "markdown",
   "metadata": {},
   "source": [
    "### Series and DataFrames\n",
    "\n",
    "Series and DataFrames are the two primary components/ data structure of pandas.\n",
    "\n",
    "- A `Series` is a  a one-dimensional labeled array capable of holding any data type\n",
    "- A `DataFrame` is multi-dimensional table made up of a collection of `Series`"
   ]
  },
  {
   "cell_type": "markdown",
   "metadata": {},
   "source": [
    "![title](img/dataFrame.PNG)"
   ]
  },
  {
   "cell_type": "markdown",
   "metadata": {},
   "source": [
    "`DataFrames` and `Series` are quite similar in that many operations that you can do with one you can do with the other. (e.g. filling in null values or calculating the mean)"
   ]
  },
  {
   "cell_type": "markdown",
   "metadata": {},
   "source": [
    "## How we incorporate data in JupyterLab\n",
    "\n",
    "#### 1. Creating manually your data \n",
    "\n",
    "You can manually create your data set by creating directly a `DataFrame` in python. There is many different way to do this. Example:"
   ]
  },
  {
   "cell_type": "code",
   "execution_count": 2,
   "metadata": {},
   "outputs": [],
   "source": [
    "data = {\n",
    "    'pears' : [12, 34, 7, 6, 9],\n",
    "    'apples' : [32, 2, 3, 5, 10]\n",
    "}\n",
    "data_df = pd.DataFrame(data)"
   ]
  },
  {
   "cell_type": "code",
   "execution_count": 3,
   "metadata": {},
   "outputs": [
    {
     "data": {
      "text/html": [
       "<div>\n",
       "<style scoped>\n",
       "    .dataframe tbody tr th:only-of-type {\n",
       "        vertical-align: middle;\n",
       "    }\n",
       "\n",
       "    .dataframe tbody tr th {\n",
       "        vertical-align: top;\n",
       "    }\n",
       "\n",
       "    .dataframe thead th {\n",
       "        text-align: right;\n",
       "    }\n",
       "</style>\n",
       "<table border=\"1\" class=\"dataframe\">\n",
       "  <thead>\n",
       "    <tr style=\"text-align: right;\">\n",
       "      <th></th>\n",
       "      <th>pears</th>\n",
       "      <th>apples</th>\n",
       "    </tr>\n",
       "  </thead>\n",
       "  <tbody>\n",
       "    <tr>\n",
       "      <th>0</th>\n",
       "      <td>12</td>\n",
       "      <td>32</td>\n",
       "    </tr>\n",
       "    <tr>\n",
       "      <th>1</th>\n",
       "      <td>34</td>\n",
       "      <td>2</td>\n",
       "    </tr>\n",
       "    <tr>\n",
       "      <th>2</th>\n",
       "      <td>7</td>\n",
       "      <td>3</td>\n",
       "    </tr>\n",
       "    <tr>\n",
       "      <th>3</th>\n",
       "      <td>6</td>\n",
       "      <td>5</td>\n",
       "    </tr>\n",
       "    <tr>\n",
       "      <th>4</th>\n",
       "      <td>9</td>\n",
       "      <td>10</td>\n",
       "    </tr>\n",
       "  </tbody>\n",
       "</table>\n",
       "</div>"
      ],
      "text/plain": [
       "   pears  apples\n",
       "0     12      32\n",
       "1     34       2\n",
       "2      7       3\n",
       "3      6       5\n",
       "4      9      10"
      ]
     },
     "execution_count": 3,
     "metadata": {},
     "output_type": "execute_result"
    }
   ],
   "source": [
    "data_df"
   ]
  },
  {
   "cell_type": "markdown",
   "metadata": {},
   "source": [
    "### 2. Using a CSV file as your data source\n",
    "\n",
    "Here we are going use the a CSV file which cointain the list of TV shows and movies available on Netflix as of 2019."
   ]
  },
  {
   "cell_type": "code",
   "execution_count": 4,
   "metadata": {},
   "outputs": [],
   "source": [
    "# Let's use pandas to access some data in a CSV file\n",
    "\n",
    "netflix_df = pd.read_csv('./data/Netflix_data/titles.csv')"
   ]
  },
  {
   "cell_type": "code",
   "execution_count": 6,
   "metadata": {},
   "outputs": [],
   "source": [
    "#netflix_df"
   ]
  },
  {
   "cell_type": "markdown",
   "metadata": {},
   "source": [
    "### 3. Using an Excel file as your data source"
   ]
  },
  {
   "cell_type": "code",
   "execution_count": 9,
   "metadata": {},
   "outputs": [],
   "source": [
    "# Let's use pandas to access some data in a CSV file\n",
    "#pd.read_excel"
   ]
  },
  {
   "cell_type": "markdown",
   "metadata": {},
   "source": [
    "### 4. Using a JSON file as your data source\n",
    "*JSON* or JavaScript Object Notation is a open standard file format and data interchange format.\n",
    "JSON file uses human-readable text to store and transmit data ojetcs.\n",
    "These data objects consist of attribute-value pairs and data types. (Just like a dictionnary)\n",
    "\n",
    "Here is an example:\n",
    "    \n",
    "![title](img/json.PNG)\n"
   ]
  },
  {
   "cell_type": "code",
   "execution_count": 10,
   "metadata": {},
   "outputs": [],
   "source": [
    "# Let's use pandas to load a JSON file in Jupyter Lab (Wine data)\n",
    "data_wine = pd.read_json('./data/Wine_data/winemag-data-130k-v2.json')"
   ]
  },
  {
   "cell_type": "code",
   "execution_count": 11,
   "metadata": {},
   "outputs": [
    {
     "data": {
      "text/html": [
       "<div>\n",
       "<style scoped>\n",
       "    .dataframe tbody tr th:only-of-type {\n",
       "        vertical-align: middle;\n",
       "    }\n",
       "\n",
       "    .dataframe tbody tr th {\n",
       "        vertical-align: top;\n",
       "    }\n",
       "\n",
       "    .dataframe thead th {\n",
       "        text-align: right;\n",
       "    }\n",
       "</style>\n",
       "<table border=\"1\" class=\"dataframe\">\n",
       "  <thead>\n",
       "    <tr style=\"text-align: right;\">\n",
       "      <th></th>\n",
       "      <th>points</th>\n",
       "      <th>title</th>\n",
       "      <th>description</th>\n",
       "      <th>taster_name</th>\n",
       "      <th>taster_twitter_handle</th>\n",
       "      <th>price</th>\n",
       "      <th>designation</th>\n",
       "      <th>variety</th>\n",
       "      <th>region_1</th>\n",
       "      <th>region_2</th>\n",
       "      <th>province</th>\n",
       "      <th>country</th>\n",
       "      <th>winery</th>\n",
       "    </tr>\n",
       "  </thead>\n",
       "  <tbody>\n",
       "    <tr>\n",
       "      <th>0</th>\n",
       "      <td>87</td>\n",
       "      <td>Nicosia 2013 Vulkà Bianco  (Etna)</td>\n",
       "      <td>Aromas include tropical fruit, broom, brimston...</td>\n",
       "      <td>Kerin O’Keefe</td>\n",
       "      <td>@kerinokeefe</td>\n",
       "      <td>NaN</td>\n",
       "      <td>Vulkà Bianco</td>\n",
       "      <td>White Blend</td>\n",
       "      <td>Etna</td>\n",
       "      <td>None</td>\n",
       "      <td>Sicily &amp; Sardinia</td>\n",
       "      <td>Italy</td>\n",
       "      <td>Nicosia</td>\n",
       "    </tr>\n",
       "    <tr>\n",
       "      <th>1</th>\n",
       "      <td>87</td>\n",
       "      <td>Quinta dos Avidagos 2011 Avidagos Red (Douro)</td>\n",
       "      <td>This is ripe and fruity, a wine that is smooth...</td>\n",
       "      <td>Roger Voss</td>\n",
       "      <td>@vossroger</td>\n",
       "      <td>15.0</td>\n",
       "      <td>Avidagos</td>\n",
       "      <td>Portuguese Red</td>\n",
       "      <td>None</td>\n",
       "      <td>None</td>\n",
       "      <td>Douro</td>\n",
       "      <td>Portugal</td>\n",
       "      <td>Quinta dos Avidagos</td>\n",
       "    </tr>\n",
       "    <tr>\n",
       "      <th>2</th>\n",
       "      <td>87</td>\n",
       "      <td>Rainstorm 2013 Pinot Gris (Willamette Valley)</td>\n",
       "      <td>Tart and snappy, the flavors of lime flesh and...</td>\n",
       "      <td>Paul Gregutt</td>\n",
       "      <td>@paulgwine</td>\n",
       "      <td>14.0</td>\n",
       "      <td>None</td>\n",
       "      <td>Pinot Gris</td>\n",
       "      <td>Willamette Valley</td>\n",
       "      <td>Willamette Valley</td>\n",
       "      <td>Oregon</td>\n",
       "      <td>US</td>\n",
       "      <td>Rainstorm</td>\n",
       "    </tr>\n",
       "    <tr>\n",
       "      <th>3</th>\n",
       "      <td>87</td>\n",
       "      <td>St. Julian 2013 Reserve Late Harvest Riesling ...</td>\n",
       "      <td>Pineapple rind, lemon pith and orange blossom ...</td>\n",
       "      <td>Alexander Peartree</td>\n",
       "      <td>None</td>\n",
       "      <td>13.0</td>\n",
       "      <td>Reserve Late Harvest</td>\n",
       "      <td>Riesling</td>\n",
       "      <td>Lake Michigan Shore</td>\n",
       "      <td>None</td>\n",
       "      <td>Michigan</td>\n",
       "      <td>US</td>\n",
       "      <td>St. Julian</td>\n",
       "    </tr>\n",
       "    <tr>\n",
       "      <th>4</th>\n",
       "      <td>87</td>\n",
       "      <td>Sweet Cheeks 2012 Vintner's Reserve Wild Child...</td>\n",
       "      <td>Much like the regular bottling from 2012, this...</td>\n",
       "      <td>Paul Gregutt</td>\n",
       "      <td>@paulgwine</td>\n",
       "      <td>65.0</td>\n",
       "      <td>Vintner's Reserve Wild Child Block</td>\n",
       "      <td>Pinot Noir</td>\n",
       "      <td>Willamette Valley</td>\n",
       "      <td>Willamette Valley</td>\n",
       "      <td>Oregon</td>\n",
       "      <td>US</td>\n",
       "      <td>Sweet Cheeks</td>\n",
       "    </tr>\n",
       "  </tbody>\n",
       "</table>\n",
       "</div>"
      ],
      "text/plain": [
       "   points                                              title  \\\n",
       "0      87                  Nicosia 2013 Vulkà Bianco  (Etna)   \n",
       "1      87      Quinta dos Avidagos 2011 Avidagos Red (Douro)   \n",
       "2      87      Rainstorm 2013 Pinot Gris (Willamette Valley)   \n",
       "3      87  St. Julian 2013 Reserve Late Harvest Riesling ...   \n",
       "4      87  Sweet Cheeks 2012 Vintner's Reserve Wild Child...   \n",
       "\n",
       "                                         description         taster_name  \\\n",
       "0  Aromas include tropical fruit, broom, brimston...       Kerin O’Keefe   \n",
       "1  This is ripe and fruity, a wine that is smooth...          Roger Voss   \n",
       "2  Tart and snappy, the flavors of lime flesh and...        Paul Gregutt   \n",
       "3  Pineapple rind, lemon pith and orange blossom ...  Alexander Peartree   \n",
       "4  Much like the regular bottling from 2012, this...        Paul Gregutt   \n",
       "\n",
       "  taster_twitter_handle  price                         designation  \\\n",
       "0          @kerinokeefe    NaN                        Vulkà Bianco   \n",
       "1            @vossroger   15.0                            Avidagos   \n",
       "2           @paulgwine    14.0                                None   \n",
       "3                  None   13.0                Reserve Late Harvest   \n",
       "4           @paulgwine    65.0  Vintner's Reserve Wild Child Block   \n",
       "\n",
       "          variety             region_1           region_2           province  \\\n",
       "0     White Blend                 Etna               None  Sicily & Sardinia   \n",
       "1  Portuguese Red                 None               None              Douro   \n",
       "2      Pinot Gris    Willamette Valley  Willamette Valley             Oregon   \n",
       "3        Riesling  Lake Michigan Shore               None           Michigan   \n",
       "4      Pinot Noir    Willamette Valley  Willamette Valley             Oregon   \n",
       "\n",
       "    country               winery  \n",
       "0     Italy              Nicosia  \n",
       "1  Portugal  Quinta dos Avidagos  \n",
       "2        US            Rainstorm  \n",
       "3        US           St. Julian  \n",
       "4        US         Sweet Cheeks  "
      ]
     },
     "execution_count": 11,
     "metadata": {},
     "output_type": "execute_result"
    }
   ],
   "source": [
    "data_wine.head()"
   ]
  },
  {
   "cell_type": "markdown",
   "metadata": {},
   "source": [
    "### 5. Using a SQL database file as your data source: SQLite\n",
    "\n",
    "**SQLite** is a C library that provides a lightweight disk-based database that doesn’t require a \n",
    "separate server process and allows accessing the database using a nonstandard variant of the SQL query language."
   ]
  },
  {
   "cell_type": "code",
   "execution_count": 13,
   "metadata": {},
   "outputs": [],
   "source": [
    "import sqlite3\n",
    "conn = sqlite3.connect('stocks.db')"
   ]
  },
  {
   "cell_type": "code",
   "execution_count": 14,
   "metadata": {},
   "outputs": [],
   "source": [
    "df = pd.read_sql_query(\"select * from stocks\", conn)"
   ]
  },
  {
   "cell_type": "code",
   "execution_count": 15,
   "metadata": {},
   "outputs": [
    {
     "data": {
      "text/html": [
       "<div>\n",
       "<style scoped>\n",
       "    .dataframe tbody tr th:only-of-type {\n",
       "        vertical-align: middle;\n",
       "    }\n",
       "\n",
       "    .dataframe tbody tr th {\n",
       "        vertical-align: top;\n",
       "    }\n",
       "\n",
       "    .dataframe thead th {\n",
       "        text-align: right;\n",
       "    }\n",
       "</style>\n",
       "<table border=\"1\" class=\"dataframe\">\n",
       "  <thead>\n",
       "    <tr style=\"text-align: right;\">\n",
       "      <th></th>\n",
       "      <th>date</th>\n",
       "      <th>trans</th>\n",
       "      <th>symbol</th>\n",
       "      <th>qty</th>\n",
       "      <th>price</th>\n",
       "    </tr>\n",
       "  </thead>\n",
       "  <tbody>\n",
       "    <tr>\n",
       "      <th>0</th>\n",
       "      <td>2006-01-05</td>\n",
       "      <td>BUY</td>\n",
       "      <td>RHAT</td>\n",
       "      <td>100.0</td>\n",
       "      <td>35.14</td>\n",
       "    </tr>\n",
       "    <tr>\n",
       "      <th>1</th>\n",
       "      <td>2006-03-28</td>\n",
       "      <td>BUY</td>\n",
       "      <td>IBM</td>\n",
       "      <td>1000.0</td>\n",
       "      <td>45.00</td>\n",
       "    </tr>\n",
       "    <tr>\n",
       "      <th>2</th>\n",
       "      <td>2006-04-05</td>\n",
       "      <td>BUY</td>\n",
       "      <td>MSFT</td>\n",
       "      <td>1000.0</td>\n",
       "      <td>72.00</td>\n",
       "    </tr>\n",
       "    <tr>\n",
       "      <th>3</th>\n",
       "      <td>2006-04-06</td>\n",
       "      <td>SELL</td>\n",
       "      <td>IBM</td>\n",
       "      <td>500.0</td>\n",
       "      <td>53.00</td>\n",
       "    </tr>\n",
       "  </tbody>\n",
       "</table>\n",
       "</div>"
      ],
      "text/plain": [
       "         date trans symbol     qty  price\n",
       "0  2006-01-05   BUY   RHAT   100.0  35.14\n",
       "1  2006-03-28   BUY    IBM  1000.0  45.00\n",
       "2  2006-04-05   BUY   MSFT  1000.0  72.00\n",
       "3  2006-04-06  SELL    IBM   500.0  53.00"
      ]
     },
     "execution_count": 15,
     "metadata": {},
     "output_type": "execute_result"
    }
   ],
   "source": [
    "df"
   ]
  },
  {
   "cell_type": "markdown",
   "metadata": {},
   "source": [
    "\n",
    "### 6. Using a real SQL database: PostgreSQL\n",
    "\n",
    "(**This part will not work on your pc unless you have a PostgreSQL database fully configure with the right data**)\n",
    "\n",
    "**PostgreSQL** is a free an open source relational database management system emphazing extensibility and SQL compliance.\n",
    "\n",
    "**psycopg2** is the most popular PostgreSQL database adapter for Python.\n"
   ]
  },
  {
   "cell_type": "code",
   "execution_count": 16,
   "metadata": {},
   "outputs": [],
   "source": [
    "import psycopg2"
   ]
  },
  {
   "cell_type": "code",
   "execution_count": 18,
   "metadata": {},
   "outputs": [],
   "source": [
    "con = psycopg2.connect(database='dvdrental', user='postgres', password=\"a\", host=\"127.0.0.1\", port=\"5432\")"
   ]
  },
  {
   "cell_type": "code",
   "execution_count": 19,
   "metadata": {},
   "outputs": [
    {
     "data": {
      "text/html": [
       "<div>\n",
       "<style scoped>\n",
       "    .dataframe tbody tr th:only-of-type {\n",
       "        vertical-align: middle;\n",
       "    }\n",
       "\n",
       "    .dataframe tbody tr th {\n",
       "        vertical-align: top;\n",
       "    }\n",
       "\n",
       "    .dataframe thead th {\n",
       "        text-align: right;\n",
       "    }\n",
       "</style>\n",
       "<table border=\"1\" class=\"dataframe\">\n",
       "  <thead>\n",
       "    <tr style=\"text-align: right;\">\n",
       "      <th></th>\n",
       "      <th>0</th>\n",
       "      <th>1</th>\n",
       "      <th>2</th>\n",
       "      <th>3</th>\n",
       "    </tr>\n",
       "  </thead>\n",
       "  <tbody>\n",
       "    <tr>\n",
       "      <th>0</th>\n",
       "      <td>1</td>\n",
       "      <td>Penelope</td>\n",
       "      <td>Guiness</td>\n",
       "      <td>2013-05-26 14:47:57.620</td>\n",
       "    </tr>\n",
       "    <tr>\n",
       "      <th>1</th>\n",
       "      <td>2</td>\n",
       "      <td>Nick</td>\n",
       "      <td>Wahlberg</td>\n",
       "      <td>2013-05-26 14:47:57.620</td>\n",
       "    </tr>\n",
       "    <tr>\n",
       "      <th>2</th>\n",
       "      <td>3</td>\n",
       "      <td>Ed</td>\n",
       "      <td>Chase</td>\n",
       "      <td>2013-05-26 14:47:57.620</td>\n",
       "    </tr>\n",
       "    <tr>\n",
       "      <th>3</th>\n",
       "      <td>4</td>\n",
       "      <td>Jennifer</td>\n",
       "      <td>Davis</td>\n",
       "      <td>2013-05-26 14:47:57.620</td>\n",
       "    </tr>\n",
       "    <tr>\n",
       "      <th>4</th>\n",
       "      <td>5</td>\n",
       "      <td>Johnny</td>\n",
       "      <td>Lollobrigida</td>\n",
       "      <td>2013-05-26 14:47:57.620</td>\n",
       "    </tr>\n",
       "    <tr>\n",
       "      <th>...</th>\n",
       "      <td>...</td>\n",
       "      <td>...</td>\n",
       "      <td>...</td>\n",
       "      <td>...</td>\n",
       "    </tr>\n",
       "    <tr>\n",
       "      <th>195</th>\n",
       "      <td>196</td>\n",
       "      <td>Bela</td>\n",
       "      <td>Walken</td>\n",
       "      <td>2013-05-26 14:47:57.620</td>\n",
       "    </tr>\n",
       "    <tr>\n",
       "      <th>196</th>\n",
       "      <td>197</td>\n",
       "      <td>Reese</td>\n",
       "      <td>West</td>\n",
       "      <td>2013-05-26 14:47:57.620</td>\n",
       "    </tr>\n",
       "    <tr>\n",
       "      <th>197</th>\n",
       "      <td>198</td>\n",
       "      <td>Mary</td>\n",
       "      <td>Keitel</td>\n",
       "      <td>2013-05-26 14:47:57.620</td>\n",
       "    </tr>\n",
       "    <tr>\n",
       "      <th>198</th>\n",
       "      <td>199</td>\n",
       "      <td>Julia</td>\n",
       "      <td>Fawcett</td>\n",
       "      <td>2013-05-26 14:47:57.620</td>\n",
       "    </tr>\n",
       "    <tr>\n",
       "      <th>199</th>\n",
       "      <td>200</td>\n",
       "      <td>Thora</td>\n",
       "      <td>Temple</td>\n",
       "      <td>2013-05-26 14:47:57.620</td>\n",
       "    </tr>\n",
       "  </tbody>\n",
       "</table>\n",
       "<p>200 rows × 4 columns</p>\n",
       "</div>"
      ],
      "text/plain": [
       "       0         1             2                       3\n",
       "0      1  Penelope       Guiness 2013-05-26 14:47:57.620\n",
       "1      2      Nick      Wahlberg 2013-05-26 14:47:57.620\n",
       "2      3        Ed         Chase 2013-05-26 14:47:57.620\n",
       "3      4  Jennifer         Davis 2013-05-26 14:47:57.620\n",
       "4      5    Johnny  Lollobrigida 2013-05-26 14:47:57.620\n",
       "..   ...       ...           ...                     ...\n",
       "195  196      Bela        Walken 2013-05-26 14:47:57.620\n",
       "196  197     Reese          West 2013-05-26 14:47:57.620\n",
       "197  198      Mary        Keitel 2013-05-26 14:47:57.620\n",
       "198  199     Julia       Fawcett 2013-05-26 14:47:57.620\n",
       "199  200     Thora        Temple 2013-05-26 14:47:57.620\n",
       "\n",
       "[200 rows x 4 columns]"
      ]
     },
     "execution_count": 19,
     "metadata": {},
     "output_type": "execute_result"
    }
   ],
   "source": [
    "cur = con.cursor()\n",
    "cur.execute(\"select * from actor\")\n",
    "rows = cur.fetchall()\n",
    "data = []\n",
    "for row in rows:\n",
    "    data.append(row)\n",
    "pd.DataFrame(data)"
   ]
  },
  {
   "cell_type": "markdown",
   "metadata": {},
   "source": [
    "### 7. Using an Application Programming Interface (API)\n",
    "\n",
    "APIs within a program are set of standards which permit outside software systems to request information from he original program\n",
    "\n",
    "For this example we are going to use the free API of **finnhub.io**\n"
   ]
  },
  {
   "cell_type": "code",
   "execution_count": 20,
   "metadata": {},
   "outputs": [
    {
     "name": "stdout",
     "output_type": "stream",
     "text": [
      "{'metric': {'10DayAverageTradingVolume': 46.18057, '13WeekPriceReturnDaily': 43.31087, '26WeekPriceReturnDaily': 38.87761, '3MonthAverageTradingVolume': 763.06617, '52WeekHigh': 457.65, '52WeekHighDate': '2020-08-06', '52WeekLow': 199.15, '52WeekLowDate': '2019-08-12', '52WeekPriceReturnDaily': 118.4781, '5DayPriceReturnDaily': 4.56663, 'assetTurnoverAnnual': 0.73888, 'assetTurnoverTTM': 0.85636, 'beta': 1.22156, 'bookValuePerShareAnnual': 20.36534, 'bookValuePerShareQuarterly': 16.87279, 'bookValueShareGrowth5Y': 1.38123, 'capitalSpendingGrowth5Y': 1.35289, 'cashFlowPerShareAnnual': 14.5847, 'cashFlowPerShareTTM': 15.77877, 'cashPerSharePerShareAnnual': 22.63148, 'cashPerSharePerShareQuarterly': 21.71483, 'currentDividendYieldTTM': 0.70424, 'currentEv/freeCashFlowAnnual': 44.17318, 'currentEv/freeCashFlowTTM': 40.34478, 'currentRatioAnnual': 1.54013, 'currentRatioQuarterly': 1.46945, 'dividendGrowthRate5Y': 11.2299, 'dividendPerShare5Y': 2.456, 'dividendPerShareAnnual': 3, 'dividendYield5Y': 1.4865, 'dividendYieldIndicatedAnnual': 0.73799, 'dividendsPerShareTTM': 3.13, 'ebitdPerShareTTM': 17.74421, 'ebitdaCagr5Y': 4.79747, 'ebitdaInterimCagr5Y': 0.18868, 'epsBasicExclExtraItemsAnnual': 11.96578, 'epsBasicExclExtraItemsTTM': 13.27332, 'epsExclExtraItemsAnnual': 11.88579, 'epsExclExtraItemsTTM': 13.15723, 'epsGrowth3Y': 12.6869, 'epsGrowth5Y': 12.99321, 'epsGrowthQuarterlyYoy': 18.38127, 'epsGrowthTTMYoy': 14.29263, 'epsInclExtraItemsAnnual': 11.88579, 'epsInclExtraItemsTTM': 13.15723, 'epsNormalizedAnnual': 11.88579, 'focfCagr5Y': 2.92073, 'freeCashFlowAnnual': 44777, 'freeCashFlowPerShareTTM': 13.00451, 'freeCashFlowTTM': 57657, 'freeOperatingCashFlow/revenue5Y': 19.40911, 'freeOperatingCashFlow/revenueTTM': 21.05369, 'grossMargin5Y': 38.71825, 'grossMarginAnnual': 37.81777, 'grossMarginTTM': 38.18781, 'inventoryTurnoverAnnual': 40.13446, 'inventoryTurnoverTTM': 46.16855, 'longTermDebt/equityAnnual': 101.4576, 'longTermDebt/equityQuarterly': 130.9842, 'marketCapitalization': 1900306, 'monthToDatePriceReturnDaily': 4.56663, 'netDebtAnnual': 7490, 'netDebtInterim': 20348, 'netIncomeEmployeeAnnual': 410825.3, 'netIncomeEmployeeTTM': 426452.6, 'netInterestCoverageAnnual': None, 'netInterestCoverageTTM': None, 'netMarginGrowth5Y': -0.35063, 'netProfitMargin5Y': 21.89832, 'netProfitMarginAnnual': 21.23809, 'netProfitMarginTTM': 21.33376, 'operatingMargin5Y': 27.18679, 'operatingMarginAnnual': 24.57202, 'operatingMarginTTM': 24.51571, 'payoutRatioAnnual': 25.57007, 'payoutRatioTTM': 24.05176, 'pbAnnual': 21.82385, 'pbQuarterly': 26.34123, 'pcfShareTTM': 27.16391, 'peBasicExclExtraTTM': 26.64217, 'peExclExtraAnnual': 37.39339, 'peExclExtraHighTTM': 26.87724, 'peExclExtraTTM': 33.77991, 'peExclLowTTM': 10.90846, 'peInclExtraTTM': 33.77991, 'peNormalizedAnnual': 37.39339, 'pfcfShareAnnual': 42.43932, 'pfcfShareTTM': 32.9588, 'pretaxMargin5Y': 27.94985, 'pretaxMarginAnnual': 25.26655, 'pretaxMarginTTM': 24.94623, 'priceRelativeToS&P50013Week': 25.28711, 'priceRelativeToS&P50026Week': 37.90086, 'priceRelativeToS&P5004Week': 10.09255, 'priceRelativeToS&P50052Week': 91.54124, 'priceRelativeToS&P500Ytd': 45.91152, 'psAnnual': 7.30398, 'psTTM': 6.93904, 'ptbvAnnual': 21.00064, 'ptbvQuarterly': 26.29016, 'quickRatioAnnual': 1.50129, 'quickRatioQuarterly': 1.42772, 'receivablesTurnoverAnnual': 11.28444, 'receivablesTurnoverTTM': 17.10003, 'revenueEmployeeAnnual': 1934379, 'revenueEmployeeTTM': 1998956, 'revenueGrowth3Y': 6.45813, 'revenueGrowth5Y': 7.31487, 'revenueGrowthQuarterlyYoy': 10.92011, 'revenueGrowthTTMYoy': 5.72241, 'revenuePerShareAnnual': 55.96448, 'revenuePerShareTTM': 61.76834, 'revenueShareGrowth5Y': 13.39077, 'roaRfy': 15.69236, 'roaa5Y': 16.0985, 'roae5Y': 44.71466, 'roaeTTM': 69.24818, 'roeRfy': 55.91722, 'roeTTM': 18.2694, 'roi5Y': 22.4014, 'roiAnnual': 22.89958, 'roiTTM': 25.70568, 'tangibleBookValuePerShareAnnual': 20.36534, 'tangibleBookValuePerShareQuarterly': 16.87279, 'tbvCagr5Y': -2.517, 'totalDebt/totalEquityAnnual': 119.4048, 'totalDebt/totalEquityQuarterly': 156.8482, 'totalDebtCagr5Y': 25.07771, 'yearToDatePriceReturnDaily': 51.35365}, 'metricType': 'all', 'series': {'annual': {'cashRatio': [{'period': '2019-09-28', 'v': 0.4620216046463233}, {'period': '2018-09-29', 'v': 0.2235247435930613}, {'period': '2017-09-30', 'v': 0.2012518102644474}, {'period': '2016-09-24', 'v': 0.2592714477381465}, {'period': '2015-09-26', 'v': 0.2620022329735765}, {'period': '2014-09-27', 'v': 0.21819442693229105}, {'period': '2013-09-28', 'v': 0.3266068074579688}, {'period': '2012-09-29', 'v': 0.27881272378184835}, {'period': '2011-09-24', 'v': 0.35091169109760456}, {'period': '2010-09-25', 'v': 0.5434321011485378}, {'period': '2009-09-26', 'v': 0.45741352337910657}, {'period': '2008-09-27', 'v': 0.8426766959977292}, {'period': '2007-09-29', 'v': 1.0056995375846864}, {'period': '2006-09-30', 'v': 0.9877916859836192}, {'period': '2005-09-24', 'v': 1.0020091848450057}, {'period': '2004-09-25', 'v': 1.1078358208955223}, {'period': '2003-09-27', 'v': 1.4408145948239288}, {'period': '2002-09-28', 'v': 1.3582629674306392}, {'period': '2001-09-29', 'v': 1.5217391304347827}, {'period': '2000-09-30', 'v': 0.6161407139161924}], 'currentRatio': [{'period': '2019-09-28', 'v': 1.5401}, {'period': '2018-09-29', 'v': 1.1329}, {'period': '2017-09-30', 'v': 1.2761}, {'period': '2016-09-24', 'v': 1.3527}, {'period': '2015-09-26', 'v': 1.1088}, {'period': '2014-09-27', 'v': 1.0801}, {'period': '2013-09-28', 'v': 1.6786}, {'period': '2012-09-29', 'v': 1.4958}, {'period': '2011-09-24', 'v': 1.6084}, {'period': '2010-09-25', 'v': 2.0113}, {'period': '2009-09-26', 'v': 2.7425}, {'period': '2008-09-27', 'v': 2.4617}, {'period': '2007-09-29', 'v': 2.3611}, {'period': '2006-09-30', 'v': 2.2422}, {'period': '2005-09-24', 'v': 2.9564}, {'period': '2004-09-25', 'v': 2.6325}, {'period': '2003-09-27', 'v': 2.4977}, {'period': '2002-09-28', 'v': 3.2497}, {'period': '2001-09-29', 'v': 3.388}, {'period': '2000-09-30', 'v': 2.8076}], 'ebitPerShare': [{'period': '2019-09-28', 'v': 13.7516}, {'period': '2018-09-29', 'v': 14.1793}, {'period': '2017-09-30', 'v': 11.6808}, {'period': '2016-09-24', 'v': 10.9129}, {'period': '2015-09-26', 'v': 12.2957}, {'period': '2014-09-27', 'v': 8.5747}, {'period': '2013-09-28', 'v': 7.5129}, {'period': '2012-09-29', 'v': 8.3483}, {'period': '2011-09-24', 'v': 5.1533}, {'period': '2010-09-25', 'v': 2.8403}, {'period': '2009-09-26', 'v': 1.8491}, {'period': '2008-09-27', 'v': 0.9937}, {'period': '2007-09-29', 'v': 0.7083}, {'period': '2006-09-30', 'v': 0.3993}, {'period': '2005-09-24', 'v': 0.2751}, {'period': '2004-09-25', 'v': 0.0601}, {'period': '2003-09-27', 'v': -0.0002}, {'period': '2002-09-28', 'v': 0.0034}, {'period': '2001-09-29', 'v': -0.0711}, {'period': '2000-09-30', 'v': 0.1035}], 'eps': [{'period': '2019-09-28', 'v': 11.8858}, {'period': '2018-09-29', 'v': 11.9059}, {'period': '2017-09-30', 'v': 9.2067}, {'period': '2016-09-24', 'v': 8.3063}, {'period': '2015-09-26', 'v': 9.2169}, {'period': '2014-09-27', 'v': 6.4527}, {'period': '2013-09-28', 'v': 5.6788}, {'period': '2012-09-29', 'v': 6.3069}, {'period': '2011-09-24', 'v': 3.9533}, {'period': '2010-09-25', 'v': 2.1648}, {'period': '2009-09-26', 'v': 1.2971}, {'period': '2008-09-27', 'v': 0.7655}, {'period': '2007-09-29', 'v': 0.5616}, {'period': '2006-09-30', 'v': 0.3238}, {'period': '2005-09-24', 'v': 0.2226}, {'period': '2004-09-25', 'v': 0.0509}, {'period': '2003-09-27', 'v': 0.0136}, {'period': '2002-09-28', 'v': 0.0128}, {'period': '2001-09-29', 'v': -0.0052}, {'period': '2000-09-30', 'v': 0.1558}], 'grossMargin': [{'period': '2019-09-28', 'v': 0.3782}, {'period': '2018-09-29', 'v': 0.3834}, {'period': '2017-09-30', 'v': 0.3847}, {'period': '2016-09-24', 'v': 0.3908}, {'period': '2015-09-26', 'v': 0.4006}, {'period': '2014-09-27', 'v': 0.3859}, {'period': '2013-09-28', 'v': 0.3762}, {'period': '2012-09-29', 'v': 0.4387}, {'period': '2011-09-24', 'v': 0.4048}, {'period': '2010-09-25', 'v': 0.3938}, {'period': '2009-09-26', 'v': 0.4014}, {'period': '2008-09-27', 'v': 0.3431}, {'period': '2007-09-29', 'v': 0.3397}, {'period': '2006-09-30', 'v': 0.2898}, {'period': '2005-09-24', 'v': 0.2902}, {'period': '2004-09-25', 'v': 0.2729}, {'period': '2003-09-27', 'v': 0.2752}, {'period': '2002-09-28', 'v': 0.2792}, {'period': '2001-09-29', 'v': 0.2303}, {'period': '2000-09-30', 'v': 0.2713}], 'longtermDebtTotalAsset': [{'period': '2019-09-28', 'v': 0.2712}, {'period': '2018-09-29', 'v': 0.2563}, {'period': '2017-09-30', 'v': 0.259}, {'period': '2016-09-24', 'v': 0.2345}, {'period': '2015-09-26', 'v': 0.1837}, {'period': '2014-09-27', 'v': 0.125}, {'period': '2013-09-28', 'v': 0.0819}, {'period': '2012-09-29', 'v': 0}, {'period': '2011-09-24', 'v': 0}, {'period': '2010-09-25', 'v': 0}, {'period': '2009-09-26', 'v': 0}, {'period': '2008-09-27', 'v': 0}, {'period': '2007-09-29', 'v': 0}, {'period': '2006-09-30', 'v': 0}, {'period': '2005-09-24', 'v': 0}, {'period': '2004-09-25', 'v': 0}, {'period': '2003-09-27', 'v': 0}, {'period': '2002-09-28', 'v': 0.0502}, {'period': '2001-09-29', 'v': 0.0526}, {'period': '2000-09-30', 'v': 0.0441}], 'longtermDebtTotalCapital': [{'period': '2019-09-28', 'v': 0.4624}, {'period': '2018-09-29', 'v': 0.4229}, {'period': '2017-09-30', 'v': 0.3893}, {'period': '2016-09-24', 'v': 0.3504}, {'period': '2015-09-26', 'v': 0.2903}, {'period': '2014-09-27', 'v': 0.1974}, {'period': '2013-09-28', 'v': 0.1207}, {'period': '2012-09-29', 'v': 0}, {'period': '2011-09-24', 'v': 0}, {'period': '2010-09-25', 'v': 0}, {'period': '2009-09-26', 'v': 0}, {'period': '2008-09-27', 'v': 0}, {'period': '2007-09-29', 'v': 0}, {'period': '2006-09-30', 'v': 0}, {'period': '2005-09-24', 'v': 0}, {'period': '2004-09-25', 'v': 0}, {'period': '2003-09-27', 'v': 0}, {'period': '2002-09-28', 'v': 0.0716}, {'period': '2001-09-29', 'v': 0.0748}, {'period': '2000-09-30', 'v': 0.0681}], 'longtermDebtTotalEquity': [{'period': '2019-09-28', 'v': 1.0146}, {'period': '2018-09-29', 'v': 0.8748}, {'period': '2017-09-30', 'v': 0.7252}, {'period': '2016-09-24', 'v': 0.5881}, {'period': '2015-09-26', 'v': 0.4468}, {'period': '2014-09-27', 'v': 0.2599}, {'period': '2013-09-28', 'v': 0.1373}, {'period': '2012-09-29', 'v': 0}, {'period': '2011-09-24', 'v': 0}, {'period': '2010-09-25', 'v': 0}, {'period': '2009-09-26', 'v': 0}, {'period': '2008-09-27', 'v': 0}, {'period': '2007-09-29', 'v': 0}, {'period': '2006-09-30', 'v': 0}, {'period': '2005-09-24', 'v': 0}, {'period': '2004-09-25', 'v': 0}, {'period': '2003-09-27', 'v': 0}, {'period': '2002-09-28', 'v': 0.0772}, {'period': '2001-09-29', 'v': 0.0809}, {'period': '2000-09-30', 'v': 0.073}], 'netDebtToTotalCapital': [{'period': '2019-09-28', 'v': 0.2982}, {'period': '2018-09-29', 'v': 0.3996}, {'period': '2017-09-30', 'v': 0.382}, {'period': '2016-09-24', 'v': 0.3091}, {'period': '2015-09-26', 'v': 0.2352}, {'period': '2014-09-27', 'v': 0.1461}, {'period': '2013-09-28', 'v': 0.0192}, {'period': '2012-09-29', 'v': -0.0909}, {'period': '2011-09-24', 'v': -0.1281}, {'period': '2010-09-25', 'v': -0.2356}, {'period': '2009-09-26', 'v': -0.1663}, {'period': '2008-09-27', 'v': -0.5647}, {'period': '2007-09-29', 'v': -0.6435}, {'period': '2006-09-30', 'v': -0.6402}, {'period': '2005-09-24', 'v': -0.4676}, {'period': '2004-09-25', 'v': -0.5849}, {'period': '2003-09-27', 'v': -0.683}, {'period': '2002-09-28', 'v': -0.4389}, {'period': '2001-09-29', 'v': -0.4704}, {'period': '2000-09-30', 'v': -0.2022}], 'netDebtToTotalEquity': [{'period': '2019-09-28', 'v': 0.6543}, {'period': '2018-09-29', 'v': 0.8266}, {'period': '2017-09-30', 'v': 0.7116}, {'period': '2016-09-24', 'v': 0.5189}, {'period': '2015-09-26', 'v': 0.362}, {'period': '2014-09-27', 'v': 0.1923}, {'period': '2013-09-28', 'v': 0.0219}, {'period': '2012-09-29', 'v': -0.0909}, {'period': '2011-09-24', 'v': -0.1281}, {'period': '2010-09-25', 'v': -0.2356}, {'period': '2009-09-26', 'v': -0.1663}, {'period': '2008-09-27', 'v': -0.5647}, {'period': '2007-09-29', 'v': -0.6435}, {'period': '2006-09-30', 'v': -0.6402}, {'period': '2005-09-24', 'v': -0.4676}, {'period': '2004-09-25', 'v': -0.5849}, {'period': '2003-09-27', 'v': -0.7322}, {'period': '2002-09-28', 'v': -0.4728}, {'period': '2001-09-29', 'v': -0.5084}, {'period': '2000-09-30', 'v': -0.2169}], 'netMargin': [{'period': '2019-09-28', 'v': 0.2124}, {'period': '2018-09-29', 'v': 0.2241}, {'period': '2017-09-30', 'v': 0.2109}, {'period': '2016-09-24', 'v': 0.2119}, {'period': '2015-09-26', 'v': 0.2285}, {'period': '2014-09-27', 'v': 0.2161}, {'period': '2013-09-28', 'v': 0.2167}, {'period': '2012-09-29', 'v': 0.2667}, {'period': '2011-09-24', 'v': 0.2395}, {'period': '2010-09-25', 'v': 0.2148}, {'period': '2009-09-26', 'v': 0.1919}, {'period': '2008-09-27', 'v': 0.1488}, {'period': '2007-09-29', 'v': 0.1456}, {'period': '2006-09-30', 'v': 0.103}, {'period': '2005-09-24', 'v': 0.0958}, {'period': '2004-09-25', 'v': 0.0333}, {'period': '2003-09-27', 'v': 0.0111}, {'period': '2002-09-28', 'v': 0.0113}, {'period': '2001-09-29', 'v': -0.0047}, {'period': '2000-09-30', 'v': 0.0985}], 'operatingMargin': [{'period': '2019-09-28', 'v': 0.2457}, {'period': '2018-09-29', 'v': 0.2669}, {'period': '2017-09-30', 'v': 0.2676}, {'period': '2016-09-24', 'v': 0.2784}, {'period': '2015-09-26', 'v': 0.3048}, {'period': '2014-09-27', 'v': 0.2872}, {'period': '2013-09-28', 'v': 0.2867}, {'period': '2012-09-29', 'v': 0.353}, {'period': '2011-09-24', 'v': 0.3122}, {'period': '2010-09-25', 'v': 0.2819}, {'period': '2009-09-26', 'v': 0.2736}, {'period': '2008-09-27', 'v': 0.1932}, {'period': '2007-09-29', 'v': 0.1837}, {'period': '2006-09-30', 'v': 0.127}, {'period': '2005-09-24', 'v': 0.1184}, {'period': '2004-09-25', 'v': 0.0394}, {'period': '2003-09-27', 'v': -0.0002}, {'period': '2002-09-28', 'v': 0.003}, {'period': '2001-09-29', 'v': -0.0641}, {'period': '2000-09-30', 'v': 0.0654}], 'pretaxMargin': [{'period': '2019-09-28', 'v': 0.2527}, {'period': '2018-09-29', 'v': 0.2745}, {'period': '2017-09-30', 'v': 0.2796}, {'period': '2016-09-24', 'v': 0.2846}, {'period': '2015-09-26', 'v': 0.3103}, {'period': '2014-09-27', 'v': 0.2926}, {'period': '2013-09-28', 'v': 0.2935}, {'period': '2012-09-29', 'v': 0.3563}, {'period': '2011-09-24', 'v': 0.316}, {'period': '2010-09-25', 'v': 0.2842}, {'period': '2009-09-26', 'v': 0.2812}, {'period': '2008-09-27', 'v': 0.2123}, {'period': '2007-09-29', 'v': 0.2086}, {'period': '2006-09-30', 'v': 0.1459}, {'period': '2005-09-24', 'v': 0.1303}, {'period': '2004-09-25', 'v': 0.0463}, {'period': '2003-09-27', 'v': 0.0148}, {'period': '2002-09-28', 'v': 0.0152}, {'period': '2001-09-29', 'v': -0.0097}, {'period': '2000-09-30', 'v': 0.1368}], 'salesPerShare': [{'period': '2019-09-28', 'v': 55.9645}, {'period': '2018-09-29', 'v': 53.1178}, {'period': '2017-09-30', 'v': 43.6496}, {'period': '2016-09-24', 'v': 39.2051}, {'period': '2015-09-26', 'v': 40.3439}, {'period': '2014-09-27', 'v': 29.8538}, {'period': '2013-09-28', 'v': 26.2052}, {'period': '2012-09-29', 'v': 23.6524}, {'period': '2011-09-24', 'v': 16.5089}, {'period': '2010-09-25', 'v': 10.0765}, {'period': '2009-09-26', 'v': 6.7578}, {'period': '2008-09-27', 'v': 5.1432}, {'period': '2007-09-29', 'v': 3.8564}, {'period': '2006-09-30', 'v': 3.1442}, {'period': '2005-09-24', 'v': 2.323}, {'period': '2004-09-25', 'v': 1.5269}, {'period': '2003-09-27', 'v': 1.2197}, {'period': '2002-09-28', 'v': 1.1337}, {'period': '2001-09-29', 'v': 1.1083}, {'period': '2000-09-30', 'v': 1.5824}], 'sgaToSale': [{'period': '2019-09-28', 'v': 0.6218}, {'period': '2018-09-29', 'v': 0.6166}, {'period': '2017-09-30', 'v': 0.6153}, {'period': '2016-09-24', 'v': 0.6092}, {'period': '2015-09-26', 'v': 0.5994}, {'period': '2014-09-27', 'v': 0.6141}, {'period': '2013-09-28', 'v': 0.6238}, {'period': '2012-09-29', 'v': 0.5613}, {'period': '2011-09-24', 'v': 0.5952}, {'period': '2010-09-25', 'v': 0.6062}, {'period': '2009-09-26', 'v': 0.5986}, {'period': '2008-09-27', 'v': 0.6569}, {'period': '2007-09-29', 'v': 0.6603}, {'period': '2006-09-30', 'v': 0.7102}, {'period': '2005-09-24', 'v': 0.7098}, {'period': '2004-09-25', 'v': 0.7271}, {'period': '2003-09-27', 'v': 0.7248}, {'period': '2002-09-28', 'v': 0.7208}, {'period': '2001-09-29', 'v': 0.7697}, {'period': '2000-09-30', 'v': 0.7287}], 'totalDebtToEquity': [{'period': '2019-09-28', 'v': 1.194}, {'period': '2018-09-29', 'v': 1.0685}, {'period': '2017-09-30', 'v': 0.863}, {'period': '2016-09-24', 'v': 0.6786}, {'period': '2015-09-26', 'v': 0.539}, {'period': '2014-09-27', 'v': 0.3164}, {'period': '2013-09-28', 'v': 0.1373}, {'period': '2012-09-29', 'v': 0}, {'period': '2011-09-24', 'v': 0}, {'period': '2010-09-25', 'v': 0}, {'period': '2009-09-26', 'v': 0}, {'period': '2008-09-27', 'v': 0}, {'period': '2007-09-29', 'v': 0}, {'period': '2006-09-30', 'v': 0}, {'period': '2005-09-24', 'v': 0}, {'period': '2004-09-25', 'v': 0}, {'period': '2003-09-27', 'v': 0.072}, {'period': '2002-09-28', 'v': 0.0772}, {'period': '2001-09-29', 'v': 0.0809}, {'period': '2000-09-30', 'v': 0.073}], 'totalDebtToTotalAsset': [{'period': '2019-09-28', 'v': 0.3192}, {'period': '2018-09-29', 'v': 0.313}, {'period': '2017-09-30', 'v': 0.3082}, {'period': '2016-09-24', 'v': 0.2705}, {'period': '2015-09-26', 'v': 0.2216}, {'period': '2014-09-27', 'v': 0.1522}, {'period': '2013-09-28', 'v': 0.0819}, {'period': '2012-09-29', 'v': 0}, {'period': '2011-09-24', 'v': 0}, {'period': '2010-09-25', 'v': 0}, {'period': '2009-09-26', 'v': 0}, {'period': '2008-09-27', 'v': 0}, {'period': '2007-09-29', 'v': 0}, {'period': '2006-09-30', 'v': 0}, {'period': '2005-09-24', 'v': 0}, {'period': '2004-09-25', 'v': 0}, {'period': '2003-09-27', 'v': 0.0446}, {'period': '2002-09-28', 'v': 0.0502}, {'period': '2001-09-29', 'v': 0.0526}, {'period': '2000-09-30', 'v': 0.0441}], 'totalDebtToTotalCapital': [{'period': '2019-09-28', 'v': 0.5442}, {'period': '2018-09-29', 'v': 0.5166}, {'period': '2017-09-30', 'v': 0.4632}, {'period': '2016-09-24', 'v': 0.4043}, {'period': '2015-09-26', 'v': 0.3502}, {'period': '2014-09-27', 'v': 0.2404}, {'period': '2013-09-28', 'v': 0.1207}, {'period': '2012-09-29', 'v': 0}, {'period': '2011-09-24', 'v': 0}, {'period': '2010-09-25', 'v': 0}, {'period': '2009-09-26', 'v': 0}, {'period': '2008-09-27', 'v': 0}, {'period': '2007-09-29', 'v': 0}, {'period': '2006-09-30', 'v': 0}, {'period': '2005-09-24', 'v': 0}, {'period': '2004-09-25', 'v': 0}, {'period': '2003-09-27', 'v': 0.0672}, {'period': '2002-09-28', 'v': 0.0716}, {'period': '2001-09-29', 'v': 0.0748}, {'period': '2000-09-30', 'v': 0.0681}], 'totalRatio': [{'period': '2019-09-28', 'v': 1.3648}, {'period': '2018-09-29', 'v': 1.4144}, {'period': '2017-09-30', 'v': 1.5556}, {'period': '2016-09-24', 'v': 1.663}, {'period': '2015-09-26', 'v': 1.698}, {'period': '2014-09-27', 'v': 1.9273}, {'period': '2013-09-28', 'v': 2.4805}, {'period': '2012-09-29', 'v': 3.0432}, {'period': '2011-09-24', 'v': 2.9271}, {'period': '2010-09-25', 'v': 2.7447}, {'period': '2009-09-26', 'v': 2.9948}, {'period': '2008-09-27', 'v': 2.1342}, {'period': '2007-09-29', 'v': 2.3437}, {'period': '2006-09-30', 'v': 2.3826}, {'period': '2005-09-24', 'v': 2.8277}, {'period': '2004-09-25', 'v': 2.7068}, {'period': '2003-09-27', 'v': 2.6292}, {'period': '2002-09-28', 'v': 2.8588}, {'period': '2001-09-29', 'v': 2.8658}, {'period': '2000-09-30', 'v': 2.5234}]}}, 'symbol': 'AAPL'}\n"
     ]
    }
   ],
   "source": [
    "# Looking at the api documentation and leveraging the data\n",
    "\n",
    "import requests\n",
    "r = requests.get('https://finnhub.io/api/v1/stock/metric?symbol=AAPL&metric=all&token=')\n",
    "print(r.json())"
   ]
  },
  {
   "cell_type": "markdown",
   "metadata": {},
   "source": [
    "## Converting back to a CSV, JSON, SQL\n",
    "\n",
    "So after extensive work on cleaning your data, you’re now ready to save it as a file of your choice. Similar to the ways we read in data, pandas provides intuitive commands to save it:"
   ]
  },
  {
   "cell_type": "code",
   "execution_count": 21,
   "metadata": {},
   "outputs": [
    {
     "data": {
      "text/html": [
       "<div>\n",
       "<style scoped>\n",
       "    .dataframe tbody tr th:only-of-type {\n",
       "        vertical-align: middle;\n",
       "    }\n",
       "\n",
       "    .dataframe tbody tr th {\n",
       "        vertical-align: top;\n",
       "    }\n",
       "\n",
       "    .dataframe thead th {\n",
       "        text-align: right;\n",
       "    }\n",
       "</style>\n",
       "<table border=\"1\" class=\"dataframe\">\n",
       "  <thead>\n",
       "    <tr style=\"text-align: right;\">\n",
       "      <th></th>\n",
       "      <th>date</th>\n",
       "      <th>trans</th>\n",
       "      <th>symbol</th>\n",
       "      <th>qty</th>\n",
       "      <th>price</th>\n",
       "    </tr>\n",
       "  </thead>\n",
       "  <tbody>\n",
       "    <tr>\n",
       "      <th>0</th>\n",
       "      <td>2006-01-05</td>\n",
       "      <td>BUY</td>\n",
       "      <td>RHAT</td>\n",
       "      <td>100.0</td>\n",
       "      <td>35.14</td>\n",
       "    </tr>\n",
       "    <tr>\n",
       "      <th>1</th>\n",
       "      <td>2006-03-28</td>\n",
       "      <td>BUY</td>\n",
       "      <td>IBM</td>\n",
       "      <td>1000.0</td>\n",
       "      <td>45.00</td>\n",
       "    </tr>\n",
       "    <tr>\n",
       "      <th>2</th>\n",
       "      <td>2006-04-05</td>\n",
       "      <td>BUY</td>\n",
       "      <td>MSFT</td>\n",
       "      <td>1000.0</td>\n",
       "      <td>72.00</td>\n",
       "    </tr>\n",
       "    <tr>\n",
       "      <th>3</th>\n",
       "      <td>2006-04-06</td>\n",
       "      <td>SELL</td>\n",
       "      <td>IBM</td>\n",
       "      <td>500.0</td>\n",
       "      <td>53.00</td>\n",
       "    </tr>\n",
       "  </tbody>\n",
       "</table>\n",
       "</div>"
      ],
      "text/plain": [
       "         date trans symbol     qty  price\n",
       "0  2006-01-05   BUY   RHAT   100.0  35.14\n",
       "1  2006-03-28   BUY    IBM  1000.0  45.00\n",
       "2  2006-04-05   BUY   MSFT  1000.0  72.00\n",
       "3  2006-04-06  SELL    IBM   500.0  53.00"
      ]
     },
     "execution_count": 21,
     "metadata": {},
     "output_type": "execute_result"
    }
   ],
   "source": [
    "df"
   ]
  },
  {
   "cell_type": "markdown",
   "metadata": {},
   "source": [
    "## Basic DataFrame operations\n",
    "\n",
    "DataFrames possess hundreds of methods and other operations that are crucial to any analysis. As a beginner, you should know the operations that perform simple transformations of your data and those that provide fundamental statistical analysis."
   ]
  },
  {
   "cell_type": "code",
   "execution_count": null,
   "metadata": {},
   "outputs": [],
   "source": [
    "### Viewing your data\n"
   ]
  }
 ],
 "metadata": {
  "kernelspec": {
   "display_name": "Python 3",
   "language": "python",
   "name": "python3"
  },
  "language_info": {
   "codemirror_mode": {
    "name": "ipython",
    "version": 3
   },
   "file_extension": ".py",
   "mimetype": "text/x-python",
   "name": "python",
   "nbconvert_exporter": "python",
   "pygments_lexer": "ipython3",
   "version": "3.6.5"
  }
 },
 "nbformat": 4,
 "nbformat_minor": 4
}
