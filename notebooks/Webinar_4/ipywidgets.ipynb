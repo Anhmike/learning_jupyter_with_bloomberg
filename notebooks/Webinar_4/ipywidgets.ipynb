{
 "cells": [
  {
   "cell_type": "markdown",
   "metadata": {},
   "source": [
    "<span style=\"color:darkorange; font-size:60px\">Learn Jupyter with Bloomberg</span></br>\n",
    "<span style=\"color:lightblue; font-size:30px\">The Jupyter widgets ecosystem - introduction</span>"
   ]
  },
  {
   "cell_type": "markdown",
   "metadata": {},
   "source": [
    "## A common analyst workflow"
   ]
  },
  {
   "cell_type": "code",
   "execution_count": null,
   "metadata": {},
   "outputs": [],
   "source": [
    "# Importing relevant packages.\n",
    "import requests # Accessing APIs.\n",
    "import pandas as pd # Processing data.\n",
    "import numpy as np # Processing data.\n",
    "from datetime import timezone, datetime # Time data manipulation.\n",
    "import matplotlib.pyplot as plt # Used for plots.\n",
    "from utils.plot_utils import set_style # Helper function for nicer looking plots.\n",
    "%matplotlib inline"
   ]
  },
  {
   "cell_type": "code",
   "execution_count": null,
   "metadata": {},
   "outputs": [],
   "source": [
    "# Making plots look nicer on dark backgrounds.\n",
    "set_style()"
   ]
  },
  {
   "cell_type": "code",
   "execution_count": null,
   "metadata": {},
   "outputs": [],
   "source": [
    "API_TOKEN = '<YOUR_TOKEN_GOES_HERE>' # Register for a token on finnhub.io if you want to retrieve data with the API."
   ]
  },
  {
   "cell_type": "code",
   "execution_count": null,
   "metadata": {},
   "outputs": [],
   "source": [
    "# Unix date format (number of seconds since 01/01/1970)\n",
    "start_date = datetime(2010, 10, 19).replace(tzinfo=timezone.utc).timestamp()\n",
    "end_date = datetime(2020, 10, 2).replace(tzinfo=timezone.utc).timestamp()"
   ]
  },
  {
   "cell_type": "code",
   "execution_count": null,
   "metadata": {},
   "outputs": [],
   "source": [
    "# Here's what it looks like.\n",
    "print(start_date)"
   ]
  },
  {
   "cell_type": "code",
   "execution_count": null,
   "metadata": {},
   "outputs": [],
   "source": [
    "# API call used to create currencies.csv\n",
    "\n",
    "# currencies = requests.get('https://finnhub.io/api/v1/forex/symbol?exchange=oanda&token=<YOUR_FINNHUB_TOKEN_HERE>')\n",
    "# pd.DataFrame(currencies.json()).to_csv('currencies.csv')\n",
    "\n",
    "currencies = pd.read_csv('data/currencies.csv')"
   ]
  },
  {
   "cell_type": "code",
   "execution_count": null,
   "metadata": {},
   "outputs": [],
   "source": [
    "# Examining the available currencies.\n",
    "# currencies['displaySymbol'].tolist()"
   ]
  },
  {
   "cell_type": "code",
   "execution_count": null,
   "metadata": {},
   "outputs": [],
   "source": [
    "# Use pandas masking to get the corresponding row with the data we are looking for.\n",
    "currencies[currencies['displaySymbol'] == 'XAU/AUD']"
   ]
  },
  {
   "cell_type": "code",
   "execution_count": null,
   "metadata": {},
   "outputs": [],
   "source": [
    "# Index into the column we are interested in retrieving data for.\n",
    "currencies[currencies['displaySymbol'] == 'XAU/AUD']['symbol']"
   ]
  },
  {
   "cell_type": "code",
   "execution_count": null,
   "metadata": {},
   "outputs": [],
   "source": [
    "# Using string templates in python to our advantage.\n",
    "request_string = 'https://finnhub.io/api/v1/forex/candle?symbol={symbol}&resolution=D&from={start_date}&to={end_date}&token={token}'.format(symbol=\"OANDA:XAU_AUD\", token=API_TOKEN, start_date=start_date, end_date=end_date)\n",
    "request_string"
   ]
  },
  {
   "cell_type": "code",
   "execution_count": null,
   "metadata": {},
   "outputs": [],
   "source": [
    "# Using the request_string to make an API call - not used in this webinar!\n",
    "# xau_aud = requests.get(request_string)\n",
    "# pd.DataFrame(xau_aud.json()).to_csv('xau_aud.csv')"
   ]
  },
  {
   "cell_type": "code",
   "execution_count": null,
   "metadata": {},
   "outputs": [],
   "source": [
    "# Close, high, low, open, status, timestamp, volume.\n",
    "xau_aud = pd.read_csv('data/XAU_AUD.csv')\n",
    "xau_aud"
   ]
  },
  {
   "cell_type": "code",
   "execution_count": null,
   "metadata": {},
   "outputs": [],
   "source": [
    "# Notice the timestamp column. We need a more useful format.\n",
    "xau_aud['t'] = xau_aud['t'].apply(datetime.fromtimestamp)"
   ]
  },
  {
   "cell_type": "code",
   "execution_count": null,
   "metadata": {},
   "outputs": [],
   "source": [
    "# Setting the 't' column as our new index.\n",
    "xau_aud.set_index('t', inplace=True)\n",
    "xau_aud.head(3)"
   ]
  },
  {
   "cell_type": "code",
   "execution_count": null,
   "metadata": {},
   "outputs": [],
   "source": [
    "# Removing the \"Unnamed: 0\" column from our data frame.\n",
    "xau_aud = xau_aud[xau_aud.columns[1:]]\n",
    "xau_aud.head(3)"
   ]
  },
  {
   "cell_type": "code",
   "execution_count": null,
   "metadata": {},
   "outputs": [],
   "source": [
    "# Friendlier name for the x-axis.\n",
    "xau_aud.index.rename('Date', inplace=True)\n",
    "xau_aud.head(3)"
   ]
  },
  {
   "cell_type": "code",
   "execution_count": null,
   "metadata": {},
   "outputs": [],
   "source": [
    "# Quick visualization of the closing price.\n",
    "plt.show(xau_aud['c'].plot(title='XAU/AUD Price', figsize=(16,9)));"
   ]
  },
  {
   "cell_type": "markdown",
   "metadata": {},
   "source": [
    "### This workflow is great for a one-off. But it can be challenging if needs to be reproduced for each currency:\n",
    "* Getting the right symbol from the dataframe and typing it each time.\n",
    "* Generating a request string each time the start/end times or currency pair changes.\n",
    "* Manipulating the data after it has been retrieved so that we have a readable timestamp\n",
    "* Plotting the end result\n",
    "\n",
    "<span style=\"color: orange\">Repetitive code is not a recommended practice in software engineering and data science. If all we want is a nice interface to select the currency pair, start date, end date, and plot the result, surely there must be a better way.</span>"
   ]
  },
  {
   "cell_type": "markdown",
   "metadata": {},
   "source": [
    "<span style=\"color: lightblue; font-size:30px\"> Interactive Widgets </span>"
   ]
  },
  {
   "cell_type": "markdown",
   "metadata": {},
   "source": [
    "### ipywidgets - interactive widgets library for Jupyter Notebooks\n",
    "* [ipywidgets documentation](https://ipywidgets.readthedocs.io/en/latest/index.html)\n",
    "* [widgets list](https://ipywidgets.readthedocs.io/en/latest/examples/Widget%20List.html)\n",
    "* [github repository](https://github.com/jupyter-widgets/ipywidgets)"
   ]
  },
  {
   "cell_type": "markdown",
   "metadata": {},
   "source": [
    "### What is a widget?\n",
    "```\n",
    "\"an application, or a component of an interface, that enables a user to perform a function or access a service\" (Oxford Languages)\n",
    "```\n",
    "<span style=\"color: orange\">In our context, widgets are small GUI components with a well-defined and specific purpose, used together to compose an application.</span>\n",
    "\n",
    "Examples:\n",
    "* Button\n",
    "* Dropdown list\n",
    "* Slider\n",
    "* Layout box\n",
    "* Graph\n",
    "* much, much more..."
   ]
  },
  {
   "cell_type": "code",
   "execution_count": null,
   "metadata": {},
   "outputs": [],
   "source": [
    "# Button example.\n",
    "import ipywidgets as ipw"
   ]
  },
  {
   "cell_type": "code",
   "execution_count": null,
   "metadata": {},
   "outputs": [],
   "source": [
    "# Output widget (optional).\n",
    "output_widget = ipw.Output()"
   ]
  },
  {
   "cell_type": "code",
   "execution_count": null,
   "metadata": {},
   "outputs": [],
   "source": [
    "# Creating a button\n",
    "my_button = ipw.Button(description=\"Click me\", button_style=\"success\")\n",
    "my_button"
   ]
  },
  {
   "cell_type": "code",
   "execution_count": null,
   "metadata": {},
   "outputs": [],
   "source": [
    "# Do something when the the button is clicked.\n",
    "@output_widget.capture()\n",
    "def do_something(value):\n",
    "    string_to_print = \"'value' is the widget instance being triggered: {}\".format(value)\n",
    "    print(string_to_print)"
   ]
  },
  {
   "cell_type": "code",
   "execution_count": null,
   "metadata": {},
   "outputs": [],
   "source": [
    "# Assigning a callback function which is triggered each time the button is clicked.\n",
    "my_button.on_click(do_something)"
   ]
  },
  {
   "cell_type": "code",
   "execution_count": null,
   "metadata": {},
   "outputs": [],
   "source": [
    "# Displaying the Output widget which will print stdout.\n",
    "output_widget"
   ]
  },
  {
   "cell_type": "code",
   "execution_count": null,
   "metadata": {},
   "outputs": [],
   "source": [
    "# Clearing the output widget area\n",
    "output_widget.clear_output()"
   ]
  },
  {
   "cell_type": "markdown",
   "metadata": {},
   "source": [
    "## Congratulations! You just created your first widget-powered application, and how easy was it?!\n",
    "\n",
    "<span style=\"color: limegreen\">So how does it work, exactly?</span>"
   ]
  },
  {
   "cell_type": "markdown",
   "metadata": {},
   "source": [
    "<img src='https://ipywidgets.readthedocs.io/en/latest/_images/WidgetModelView.png'>"
   ]
  },
  {
   "cell_type": "markdown",
   "metadata": {},
   "source": [
    "### Let's take a quick look at the \"Widget_List\" notebook to explore other widget types"
   ]
  },
  {
   "cell_type": "markdown",
   "metadata": {},
   "source": [
    "# Can this solve our problem of not a having dynamic data retrieval and plotting solution for our currencies? Yes it can."
   ]
  },
  {
   "cell_type": "code",
   "execution_count": null,
   "metadata": {},
   "outputs": [],
   "source": [
    "# Extratcing the description from our 'currencies' data frame.\n",
    "symbol_list = currencies['description'].tolist()"
   ]
  },
  {
   "cell_type": "code",
   "execution_count": null,
   "metadata": {},
   "outputs": [],
   "source": [
    "# Uncomment this to see the list.\n",
    "# symbol_list"
   ]
  },
  {
   "cell_type": "code",
   "execution_count": null,
   "metadata": {},
   "outputs": [],
   "source": [
    "# Dropdown widget for the currency list.\n",
    "drop_down = ipw.Dropdown(options=symbol_list)\n",
    "drop_down"
   ]
  },
  {
   "cell_type": "code",
   "execution_count": null,
   "metadata": {},
   "outputs": [],
   "source": [
    "# What is the value currently displayed by the drop down widget? Try selecting different values and re-execute this cell.\n",
    "print(drop_down.value)"
   ]
  },
  {
   "cell_type": "code",
   "execution_count": null,
   "metadata": {},
   "outputs": [],
   "source": [
    "# ..and the corresponding symbol\n",
    "currencies[currencies['description'] == drop_down.value]['displaySymbol']"
   ]
  },
  {
   "cell_type": "code",
   "execution_count": null,
   "metadata": {},
   "outputs": [],
   "source": [
    "currencies[currencies['description'] == symbol_list[0]]['symbol'].values[0]"
   ]
  },
  {
   "cell_type": "code",
   "execution_count": null,
   "metadata": {},
   "outputs": [],
   "source": [
    "# For your reference - code used to retrieve the currency .csv files in the data directory.\n",
    "\n",
    "# from time import sleep\n",
    "# import os\n",
    "\n",
    "# i = 0\n",
    "# while i < len(symbol_list):\n",
    "#     if (i % 29 == 0):\n",
    "#         print('A short pause..') # Finnhub doesn't allow more than 30 requests per second.\n",
    "#         sleep(2)\n",
    "        \n",
    "#     ccy_symbol = currencies[currencies['description'] == symbol_list[i]]['symbol'].values[0]\n",
    "#     file_name = currencies[currencies['description'] == symbol_list[i]]['displaySymbol'].values[0]\n",
    "#     request_string = 'https://finnhub.io/api/v1/forex/candle?symbol={symbol}&resolution=D&from={start_date}&to={end_date}&token={token}'.format(symbol=ccy_symbol, token=API_TOKEN, start_date=start_date, end_date=end_date)\n",
    "#     file_exists = os.path.exists(os.getcwd()+ \"/data/\" + file_name.replace(\"/\",\"_\") + '.csv')\n",
    "#     if not file_exists:\n",
    "#         print(file_name.replace(\"/\",\"_\") + '.csv' + \" missing!\")\n",
    "#         pd.DataFrame(requests.get(request_string).json()).to_csv(\"data/\" + file_name.replace(\"/\",\"_\") + '.csv')\n",
    "#     i += 1"
   ]
  },
  {
   "cell_type": "code",
   "execution_count": null,
   "metadata": {},
   "outputs": [],
   "source": [
    "# Constructing our control bar.\n",
    "start_date_selector = ipw.DatePicker(description=\"Start date\", value=datetime(2018,1,1))\n",
    "end_date_selector = ipw.DatePicker(description=\"End date\", value=datetime(2020,8,5))\n",
    "get_data_button = ipw.Button(description=\"Get data!\", button_style='success')\n",
    "\n",
    "control_bar = ipw.HBox([drop_down, start_date_selector, end_date_selector, get_data_button])\n",
    "control_bar"
   ]
  },
  {
   "cell_type": "code",
   "execution_count": null,
   "metadata": {},
   "outputs": [],
   "source": [
    "# Adding our output area.\n",
    "output_area = ipw.Output()"
   ]
  },
  {
   "cell_type": "code",
   "execution_count": null,
   "metadata": {},
   "outputs": [],
   "source": [
    "# Combining the two.\n",
    "# app_container = ipw.VBox([control_bar])\n",
    "app_container = ipw.VBox([control_bar, output_area])"
   ]
  },
  {
   "cell_type": "code",
   "execution_count": null,
   "metadata": {},
   "outputs": [],
   "source": [
    "# Uncomment to see what the container looks like (will not look different from control_bar without any output!)\n",
    "# app_container"
   ]
  },
  {
   "cell_type": "markdown",
   "metadata": {},
   "source": [
    "### The 'observe' pattern\n",
    "<span style=\"color:orange\">We previously saw how we can listen to a 'click' even on a button and when that event happens, a specific function gets called. The observe pattern serves the same purpose - to trigger a function when an event happens, only this time by 'observing' a specific value of a widget and then triggering a function when that specific observed trait has changed.</span>\n",
    "\n",
    "Let's observe a change in the __value__ trait `drop_down` widget and trigger a print function when that value changes. "
   ]
  },
  {
   "cell_type": "code",
   "execution_count": null,
   "metadata": {},
   "outputs": [],
   "source": [
    "@output_area.capture()\n",
    "def drop_down_callback(value):\n",
    "    output_area.clear_output()\n",
    "    print(\"Previously selected currency: {}. New selected currency: {}\".format(value['old'], value['new'])) # The value object passed into the callback is a regular python dictionary with ipywidgets properties."
   ]
  },
  {
   "cell_type": "code",
   "execution_count": null,
   "metadata": {},
   "outputs": [],
   "source": [
    "# Adding the event listener which will observe the 'value' trait of the dropdown and trigger drop_down_callback() each time it changes.\n",
    "drop_down.observe(drop_down_callback, 'value')"
   ]
  },
  {
   "cell_type": "markdown",
   "metadata": {},
   "source": [
    "### Try it selecting a different currency from the drop down menu!"
   ]
  },
  {
   "cell_type": "code",
   "execution_count": null,
   "metadata": {},
   "outputs": [],
   "source": [
    "# Clearing the output area.\n",
    "output_area.clear_output()"
   ]
  },
  {
   "cell_type": "markdown",
   "metadata": {},
   "source": [
    "<span style=\"color:lightblue; font-size:30px\">Finishing our application - putting everything together</span>"
   ]
  },
  {
   "cell_type": "code",
   "execution_count": null,
   "metadata": {},
   "outputs": [],
   "source": [
    "# Get data callback.\n",
    "@output_area.capture(clear_output=True) # This allows the output widget to cleare the content each time this function is called - keeps things neat!\n",
    "def get_data_callback(value):\n",
    "    # Checking for the right name format.\n",
    "    if '/' in drop_down.value:\n",
    "        file_name = currencies[currencies['description'] == drop_down.value]['displaySymbol'].values[0].replace(\"/\",\"_\")+'.csv'\n",
    "    else:\n",
    "        file_name = drop_down.value + '.csv'\n",
    "\n",
    "    # Loading the correct file into a dataframe.\n",
    "    currency_data = pd.read_csv('data/'+file_name)\n",
    "    \n",
    "    # Converting the 't' column data type from Unix timestamp to python datetime (which is easier to work with).\n",
    "    currency_data['t'] = currency_data['t'].apply(datetime.fromtimestamp)\n",
    "    \n",
    "     # Setting the 't' as an index column (notice we're doing this in-place).\n",
    "    currency_data.set_index('t', inplace=True)\n",
    "    \n",
    "    # Removing the \"Unnamed: 0\" and volume columns from our data frame.\n",
    "    currency_data = currency_data[currency_data.columns[1:-1]]\n",
    "    \n",
    "    # Renaming the x-axis to something friendlier.\n",
    "    currency_data.index.rename('Date', inplace=True)\n",
    "    \n",
    "    # Friendlier names for the OHLC columns\n",
    "    currency_data.rename({'o':'Open','h':'High','l':'Low','c':'Close'}, axis=1, inplace=True)\n",
    "    \n",
    "    # Selecting the currency data based on the date ranges in our date selectors.\n",
    "    selected_data = currency_data.loc[start_date_selector.value:end_date_selector.value] # The .loc method has a [index, column] format and allows for an index range such as .loc[start:end, :]. The colon means \"all columns\" in this case.\n",
    "    \n",
    "    # Rendering a matplotlib figure with a title corres\n",
    "    plt.show(selected_data.plot(title=drop_down.value, figsize=(16,9)))"
   ]
  },
  {
   "cell_type": "code",
   "execution_count": null,
   "metadata": {},
   "outputs": [],
   "source": [
    "# Adding an event listener for the button click.\n",
    "get_data_button.on_click(get_data_callback)"
   ]
  },
  {
   "cell_type": "code",
   "execution_count": null,
   "metadata": {},
   "outputs": [],
   "source": [
    "app_container"
   ]
  }
 ],
 "metadata": {
  "kernelspec": {
   "display_name": "Python 3",
   "language": "python",
   "name": "python3"
  },
  "language_info": {
   "codemirror_mode": {
    "name": "ipython",
    "version": 3
   },
   "file_extension": ".py",
   "mimetype": "text/x-python",
   "name": "python",
   "nbconvert_exporter": "python",
   "pygments_lexer": "ipython3",
   "version": "3.8.5"
  }
 },
 "nbformat": 4,
 "nbformat_minor": 4
}
