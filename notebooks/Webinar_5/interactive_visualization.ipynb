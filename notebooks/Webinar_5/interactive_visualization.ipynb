{
 "cells": [
  {
   "cell_type": "markdown",
   "metadata": {},
   "source": [
    "<span style=\"color:darkorange; font-size:60px\">Learn Jupyter with Bloomberg</span></br>\n",
    "<span style=\"color:lightblue; font-size:30px\">Interactive data visualization - bqplot</span>"
   ]
  },
  {
   "cell_type": "code",
   "execution_count": null,
   "metadata": {},
   "outputs": [],
   "source": [
    "import bqplot as bqp\n",
    "import pandas as pd\n",
    "import numpy as np\n",
    "import ipywidgets as widgets\n",
    "import matplotlib.pyplot as mplt\n",
    "import bqplot.pyplot as plt\n",
    "from utils.plot_utils import set_style # Helper function for nicer looking plots."
   ]
  },
  {
   "cell_type": "code",
   "execution_count": null,
   "metadata": {},
   "outputs": [],
   "source": [
    "# Styling for dark background matplotlib charts\n",
    "set_style()"
   ]
  },
  {
   "cell_type": "markdown",
   "metadata": {},
   "source": [
    "### Why do we need to visualize our data?\n",
    "There are many reasons, of course, but a few important ones which come to mind are:\n",
    "1. <span style=\"color: orange; font-size:16px\">Easier to read.</span> Think of the stock price of a company. If you want to see how the company has been doing over time, it's harder to try and read through the data in a tabular format. A line chart makes achieving this task much easier.\n",
    "2. <span style=\"color: orange; font-size:16px\">Quality check.</span> It is easier to detect outliers when looking at a chart compared to a table.\n",
    "2. <span style=\"color: orange; font-size:16px\">Telling a story.</span>  \"A picture is worth a thousand words\" may sound like a cliche, but it really is not. A chart well done can convey a much more compelling story than narration alone.\n",
    "3. <span style=\"color: orange; font-size:16px\">Summary statistics and other information which is derived from data can be very misleading.</span>  Point in case \"Datasaurus\".\n",
    "\n",
    "[Check out the Datasaurus example](datasaurus.ipynb)"
   ]
  },
  {
   "cell_type": "markdown",
   "metadata": {},
   "source": [
    "### Data visualization is, of course, not limited to charts!\n",
    "\n",
    "Check out this [great resource](https://informationisbeautiful.net/data/) for novel ways of visualizing data. (link last retrieved 2020-10-31)"
   ]
  },
  {
   "cell_type": "markdown",
   "metadata": {},
   "source": [
    "### Common chart types used in data analysis\n",
    "1. Bar\n",
    "2. Line\n",
    "3. Scatter\n",
    "4. Pie\n",
    "5. Heatmap\n",
    "6. Choropleth (Geo)\n",
    "\n",
    "This is by no means an exhaustive list, there are too many to list here, but these are the most common ones! We will focus on the first three and how to use them in `bqplot`"
   ]
  },
  {
   "cell_type": "markdown",
   "metadata": {},
   "source": [
    "### Static vs. dynamic Charts\n",
    "We always want to use the right tool for the job. What are the differences?\n",
    "\n",
    "- Static chart images are great for reports and other contexts where the image doesn't change frequently. Typically generated in some backend are saved to a file with come compression technique. \n",
    "- Dynamic charts do not produce an image (hand wavey), but rather draw objects in some context (like a web browser) which together compose a chart. (They can be saved to an image too, if needed). **Most importantly, they allow for _*interactions*_!** "
   ]
  },
  {
   "cell_type": "code",
   "execution_count": null,
   "metadata": {},
   "outputs": [],
   "source": [
    "# Some fake data\n",
    "np.random.seed(0)\n",
    "x_data = np.arange(1,21,1)\n",
    "y_fake_line = 100 + np.random.normal(0,1,20).cumsum()\n",
    "y_fake_dots = np.random.normal(1,10,20)"
   ]
  },
  {
   "cell_type": "markdown",
   "metadata": {},
   "source": [
    "### Static charts of some fake data"
   ]
  },
  {
   "cell_type": "code",
   "execution_count": null,
   "metadata": {},
   "outputs": [],
   "source": [
    "# Using matplotlib\n",
    "fig, axes = mplt.subplots(1,2, figsize=(16,4))\n",
    "axes[0].scatter(x_data, y_fake_dots)\n",
    "axes[1].plot(x_data, y_fake_line);"
   ]
  },
  {
   "cell_type": "markdown",
   "metadata": {},
   "source": [
    "### Dynamic charts of some fake data"
   ]
  },
  {
   "cell_type": "code",
   "execution_count": null,
   "metadata": {},
   "outputs": [],
   "source": [
    "# Using bqplot\n",
    "plt.figure()\n",
    "plt.plot(x_data, y_fake_line)\n",
    "plt.show()"
   ]
  },
  {
   "cell_type": "markdown",
   "metadata": {},
   "source": [
    "<span style=\"color: orange; font-size:20px\">Dynamic, interactive charts are excellent for applications, live dashboards and reproducible research!</span>"
   ]
  },
  {
   "cell_type": "markdown",
   "metadata": {},
   "source": [
    "### The \"Grammar of Graphics\" in 30 seconds, a _*very*_ light introduction.\n",
    "Look at the chart above. It is made of a number of components. Can you identify those components?\n",
    "\n",
    "- There is data to begin with, illustrated by the line mark.\n",
    "- Axes, both x and y.\n",
    "- Scales for those axes, both linear (other contexts can have ordinal, log etc.).\n",
    "- The figure object itself, which combines all these elements.\n",
    "- There is some coordinate system here.\n",
    "\n",
    "We are trying to tell a story with our data by taking all of the point above (and more) into consideration. The Grammar of Graphics is quite a dense book to read but there are many resources online with summaries.\n",
    "\n",
    "`bqplot` is based on the Grammar of Graphics!"
   ]
  },
  {
   "cell_type": "markdown",
   "metadata": {},
   "source": [
    "## Let's dive in!"
   ]
  },
  {
   "cell_type": "code",
   "execution_count": null,
   "metadata": {},
   "outputs": [],
   "source": [
    "def generate_fake_stock_price(steps):\n",
    "    return (np.arange(steps), 100 + np.random.normal(0,1,steps).cumsum())"
   ]
  },
  {
   "cell_type": "code",
   "execution_count": null,
   "metadata": {},
   "outputs": [],
   "source": [
    "# Data\n",
    "x_data, y_data = generate_fake_stock_price(100)"
   ]
  },
  {
   "cell_type": "markdown",
   "metadata": {},
   "source": [
    "### BQPlot has two interfaces"
   ]
  },
  {
   "cell_type": "markdown",
   "metadata": {},
   "source": [
    "### The pyplot interface"
   ]
  },
  {
   "cell_type": "markdown",
   "metadata": {},
   "source": [
    "Simple interface, great for quick plots. But not very configurable!"
   ]
  },
  {
   "cell_type": "code",
   "execution_count": null,
   "metadata": {},
   "outputs": [],
   "source": [
    "plt.figure()\n",
    "plt.plot(x_data, y_data);\n",
    "plt.show()"
   ]
  },
  {
   "cell_type": "markdown",
   "metadata": {},
   "source": [
    "### The object model interface"
   ]
  },
  {
   "cell_type": "markdown",
   "metadata": {},
   "source": [
    "Low level API. Very powerful and configurable!"
   ]
  },
  {
   "cell_type": "code",
   "execution_count": null,
   "metadata": {},
   "outputs": [],
   "source": [
    "# Creating the bqplot chart objects\n",
    "sc_x = bqp.LinearScale()\n",
    "sc_y = bqp.LinearScale()\n",
    "\n",
    "line = bqp.Lines(x=x_data, y=y_data, labels=['Fake stock price'], display_legend=True,\n",
    "                 scales={'x': sc_x, 'y': sc_y})\n",
    "ax_x = bqp.Axis(scale=sc_x, label='Index')\n",
    "ax_y = bqp.Axis(scale=sc_y, orientation='vertical', label='y-value')\n",
    "\n",
    "fig = bqp.Figure(marks=[line], axes=[ax_x, ax_y], title='Line Chart')\n",
    "fig"
   ]
  },
  {
   "cell_type": "markdown",
   "metadata": {},
   "source": [
    "### Interactivity\n",
    "<span style=\"color: orange; font-size:18px\">Everything is an object in `bqplot`</span>."
   ]
  },
  {
   "cell_type": "markdown",
   "metadata": {},
   "source": [
    "This is crucial for interactivity. Everything is drawn directly in the browser."
   ]
  },
  {
   "cell_type": "code",
   "execution_count": null,
   "metadata": {},
   "outputs": [],
   "source": [
    "# Checking out the line mark object\n",
    "line.x"
   ]
  },
  {
   "cell_type": "code",
   "execution_count": null,
   "metadata": {},
   "outputs": [],
   "source": [
    "line.y"
   ]
  },
  {
   "cell_type": "markdown",
   "metadata": {},
   "source": [
    "#### Let's create a separate window for the bqplot chart (great JupyterLab feature)\n",
    "\n",
    "Now we can continue exploring the different elements of the chart!"
   ]
  },
  {
   "cell_type": "code",
   "execution_count": null,
   "metadata": {},
   "outputs": [],
   "source": [
    "# Not only retrieving data!\n",
    "line.x, line.y = generate_fake_stock_price(100)"
   ]
  },
  {
   "cell_type": "markdown",
   "metadata": {},
   "source": [
    "### A 'delight' factor - do you like animations?"
   ]
  },
  {
   "cell_type": "code",
   "execution_count": null,
   "metadata": {},
   "outputs": [],
   "source": [
    "fig.animation_duration=1000 # transition animation in milliseconds"
   ]
  },
  {
   "cell_type": "markdown",
   "metadata": {},
   "source": [
    "<span style=\"color: orange; font-size:18px\">We can change anything we want on the fly, and it will update immediately!</span>\n",
    "\n",
    "Let's try changing a few more properties."
   ]
  },
  {
   "cell_type": "code",
   "execution_count": null,
   "metadata": {},
   "outputs": [],
   "source": [
    "fig.title = 'A new title for my chart'"
   ]
  },
  {
   "cell_type": "code",
   "execution_count": null,
   "metadata": {},
   "outputs": [],
   "source": [
    "line.colors = ['limegreen']"
   ]
  },
  {
   "cell_type": "markdown",
   "metadata": {},
   "source": [
    "<span style=\"color: orange; font-size:18px\">Built for the widgets ecosystem</span>\n",
    "\n",
    "Let's build a small app to change the line data and color randomly."
   ]
  },
  {
   "cell_type": "code",
   "execution_count": null,
   "metadata": {},
   "outputs": [],
   "source": [
    "# Callback function for the button\n",
    "def change_line(click=None):\n",
    "    line.x, line.y = generate_fake_stock_price(100)\n",
    "    line.colors = [bqp.CATEGORY10[np.random.randint(len(bqp.CATEGORY10))]]\n",
    "    fig.title = \"Line chart with color {}\".format(line.colors)\n",
    "    \n",
    "    \n",
    "btn = widgets.Button(description='Change line!', button_style='warning')\n",
    "btn.on_click(change_line)\n",
    "widgets.VBox([btn, fig])"
   ]
  },
  {
   "cell_type": "code",
   "execution_count": null,
   "metadata": {},
   "outputs": [],
   "source": [
    "# If we don't like the legend\n",
    "line.display_legend=False"
   ]
  },
  {
   "cell_type": "markdown",
   "metadata": {},
   "source": [
    "### Some more line chart examples"
   ]
  },
  {
   "cell_type": "markdown",
   "metadata": {},
   "source": [
    "##### Two lines on the y-axis"
   ]
  },
  {
   "cell_type": "code",
   "execution_count": null,
   "metadata": {},
   "outputs": [],
   "source": [
    "x = np.arange(100)\n",
    "y = np.cumsum(np.random.randn(2, 100), axis=1) #two random walks\n",
    "\n",
    "axes_options = {'x': {'label': 'x'}, 'y': {'label': 'y'}}\n",
    "fig = plt.figure(animation_duration=1000)\n",
    "lines = plt.plot(x=x, y=y, colors=['darkorange', 'dodgerblue'], axes_options=axes_options)\n",
    "fig"
   ]
  },
  {
   "cell_type": "code",
   "execution_count": null,
   "metadata": {},
   "outputs": [],
   "source": [
    "# Update data of the line mark\n",
    "lines.y = np.cumsum(np.random.randn(2, 100), axis=1)"
   ]
  },
  {
   "cell_type": "markdown",
   "metadata": {},
   "source": [
    "##### Non-clipped lines"
   ]
  },
  {
   "cell_type": "code",
   "execution_count": null,
   "metadata": {},
   "outputs": [],
   "source": [
    "x = np.arange(100)\n",
    "y1, y2 = np.random.randn(2, 100).cumsum(axis=1)\n",
    "\n",
    "fig = plt.figure()\n",
    "plt.scales(scales={'x': bqp.LinearScale(min=10, max=90)})\n",
    "line1 = plt.plot(x, y1, 'm', labels=['Clipped Line'], display_legend=True)\n",
    "line2 = plt.plot(x, y2, 'y', apply_clip=False, labels=['Non clipped line'], display_legend=True)\n",
    "fig"
   ]
  },
  {
   "cell_type": "markdown",
   "metadata": {},
   "source": [
    "##### Hand drawing - use as an input"
   ]
  },
  {
   "cell_type": "markdown",
   "metadata": {},
   "source": [
    "No grid lines, either."
   ]
  },
  {
   "cell_type": "code",
   "execution_count": null,
   "metadata": {},
   "outputs": [],
   "source": [
    "# Import to process datetime data\n",
    "from datetime import datetime as py_dtime\n",
    "\n",
    "# Data\n",
    "price_data = pd.DataFrame(np.cumsum(np.random.randn(150, 2).dot([[0.5, 0.4], [0.4, 1.0]]), axis=0) + 100,\n",
    "                          columns=['Security 1', 'Security 2'],\n",
    "                          index=pd.date_range(start='01-01-2007', periods=150))\n",
    "\n",
    "symbol = 'Security 1'\n",
    "symbol2 = 'Security 2'\n",
    "date_fmt = '%m-%d-%Y'\n",
    "sec2_data = price_data[symbol2].values\n",
    "dates = price_data.index.values\n",
    "dates_actual = price_data.index.values\n",
    "prices = price_data[symbol].values\n",
    "\n",
    "\n",
    "# Chart\n",
    "xs_hd = bqp.DateScale(min=np.datetime64(py_dtime(2007, 1, 1)))\n",
    "ys_hd = bqp.LinearScale()\n",
    "line_hd = bqp.Lines(x=dates_actual, y=sec2_data, scales={'x': xs_hd, 'y': ys_hd}, colors=['darkseagreen'])\n",
    "\n",
    "handdraw = bqp.interacts.HandDraw(lines=line_hd)\n",
    "xax = bqp.Axis(scale=xs_hd, label='Date', grid_lines='none')\n",
    "yax = bqp.Axis(scale=ys_hd, label='Price', orientation='vertical', grid_lines='none')\n",
    "\n",
    "bqp.Figure(marks=[line_hd], axes=[xax, yax], interaction=handdraw)"
   ]
  },
  {
   "cell_type": "code",
   "execution_count": null,
   "metadata": {},
   "outputs": [],
   "source": [
    "line_hd.y"
   ]
  },
  {
   "cell_type": "markdown",
   "metadata": {},
   "source": [
    "#### Scatter Charts"
   ]
  },
  {
   "cell_type": "code",
   "execution_count": null,
   "metadata": {},
   "outputs": [],
   "source": [
    "# Scales for x and y axes\n",
    "sc_x = bqp.LinearScale()\n",
    "sc_y = bqp.LinearScale()\n",
    "\n",
    "# Tooltip widget - new addition\n",
    "ttip = bqp.Tooltip(fields=['x', 'y'], formats=['', '.2f'])\n",
    "\n",
    "# Scatter mark\n",
    "scatt = bqp.Scatter(x=x_data[:20], y=y_fake_dots, scales={'x': sc_x, 'y': sc_y},  labels=['Random scatter data'],\n",
    "                    colors=bqp.CATEGORY10, display_legend=True, tooltip=ttip)\n",
    "\n",
    "# Axes for both x and y\n",
    "ax_x = bqp.Axis(scale=sc_x, label='X Axis')\n",
    "ax_y = bqp.Axis(scale=sc_y, orientation='vertical', tick_format='0.0f', label=\"Y-Axis\")\n",
    "\n",
    "# Figure object\n",
    "fig = bqp.Figure(marks=[scatt], axes=[ax_x, ax_y], title='Scatter Chart', animation_duration=1000)\n",
    "fig"
   ]
  },
  {
   "cell_type": "markdown",
   "metadata": {},
   "source": [
    "#### Colorful and nice, but we are looking for a trend.\n",
    "Simple OLS regression."
   ]
  },
  {
   "cell_type": "code",
   "execution_count": null,
   "metadata": {},
   "outputs": [],
   "source": [
    "regression = np.polyfit(x_data[:20], y_fake_dots, deg=1)\n",
    "polyfit = np.polyval(regression, x_data)\n",
    "\n",
    "# Creating a line mark\n",
    "ols_line = bqp.Lines(x=x_data[:20], y=polyfit, scales={'x':sc_x, 'y':sc_y}, colors=['pink'])\n",
    "\n",
    "# Adding the regression line\n",
    "fig.marks = [scatt, ols_line]"
   ]
  },
  {
   "cell_type": "markdown",
   "metadata": {},
   "source": [
    "#### Okay, we have a trend line we can see. What if we could play with the data and regression parameters and see what effect it would have on the trajectory?"
   ]
  },
  {
   "cell_type": "markdown",
   "metadata": {},
   "source": [
    "<span style=\"color: orange; font-size:18px\">We can interact with our data directly with `bqplot` by clicking and draggin it. It's as easy as that.</span>"
   ]
  },
  {
   "cell_type": "code",
   "execution_count": null,
   "metadata": {},
   "outputs": [],
   "source": [
    "scatt.enable_move = True"
   ]
  },
  {
   "cell_type": "markdown",
   "metadata": {},
   "source": [
    "<span style=\"color: orange; font-size:18px\">Try it! Now let's make a small app out of it.</span>"
   ]
  },
  {
   "cell_type": "code",
   "execution_count": null,
   "metadata": {},
   "outputs": [],
   "source": [
    "# Some widgets\n",
    "slider_scatt = widgets.IntSlider(value=2, min=1, max=5)\n",
    "\n",
    "# Callback for linear regression degree of freedom change\n",
    "def scatter_callback(click=None):\n",
    "    # New regression\n",
    "    regression = np.polyfit(scatt.x, scatt.y, deg=slider_scatt.value)\n",
    "    polyfit = np.polyval(regression, scatt.x)\n",
    "    \n",
    "    with ols_line.hold_sync():\n",
    "        ols_line.x = scatt.x\n",
    "        ols_line.y = polyfit\n",
    "\n",
    "# Listening for change events\n",
    "scatt.observe(scatter_callback, names=['x'])\n",
    "scatt.observe(scatter_callback, names=['y'])\n",
    "slider_scatt.observe(scatter_callback, 'value')\n",
    "\n",
    "widgets.VBox([slider_scatt, fig])"
   ]
  },
  {
   "cell_type": "markdown",
   "metadata": {},
   "source": [
    "This is great! But can we use the regression data generated after moving the dots?"
   ]
  },
  {
   "cell_type": "code",
   "execution_count": null,
   "metadata": {},
   "outputs": [],
   "source": [
    "ols_line.y"
   ]
  },
  {
   "cell_type": "markdown",
   "metadata": {},
   "source": [
    "### Some more scatter chart examples"
   ]
  },
  {
   "cell_type": "markdown",
   "metadata": {},
   "source": [
    "##### Updating data"
   ]
  },
  {
   "cell_type": "code",
   "execution_count": null,
   "metadata": {},
   "outputs": [],
   "source": [
    "fig = plt.figure(animation_duration=1000)\n",
    "x, y = np.random.rand(2, 20)\n",
    "scatt = plt.scatter(x, y, colors=['yellowgreen'], axes_options=axes_options)\n",
    "fig"
   ]
  },
  {
   "cell_type": "code",
   "execution_count": null,
   "metadata": {},
   "outputs": [],
   "source": [
    "scatt.x = np.random.rand(20) * 10\n",
    "scatt.y = np.random.rand(20)"
   ]
  },
  {
   "cell_type": "markdown",
   "metadata": {},
   "source": [
    "#### Bar Charts"
   ]
  },
  {
   "cell_type": "code",
   "execution_count": null,
   "metadata": {},
   "outputs": [],
   "source": [
    "# Some data\n",
    "size = 100\n",
    "np.random.seed(0)\n",
    "\n",
    "x_data = range(size)\n",
    "y_data = np.random.randn(size)\n",
    "y_data_2 = np.random.randn(size)\n",
    "y_data_3 = np.cumsum(np.random.randn(size) * 100.)"
   ]
  },
  {
   "cell_type": "code",
   "execution_count": null,
   "metadata": {},
   "outputs": [],
   "source": [
    "x_ord = bqp.OrdinalScale()\n",
    "y_sc = bqp.LinearScale()\n",
    "\n",
    "bar = bqp.Bars(x=np.arange(1,11), y=np.arange(1,11), scales={'x': x_ord, 'y': y_sc}, colors=bqp.CATEGORY10)\n",
    "ax_x = bqp.Axis(scale=x_ord)\n",
    "ax_y = bqp.Axis(scale=y_sc, tick_format='0.2f', orientation='vertical')\n",
    "\n",
    "bqp.Figure(marks=[bar], axes=[ax_x, ax_y], padding_x=0.025, padding_y=0.025, animation_duration=1000)"
   ]
  },
  {
   "cell_type": "code",
   "execution_count": null,
   "metadata": {},
   "outputs": [],
   "source": [
    "# Changing the orientation\n",
    "bar.orientation = 'horizontal'"
   ]
  },
  {
   "cell_type": "code",
   "execution_count": null,
   "metadata": {},
   "outputs": [],
   "source": [
    "# Adding labels\n",
    "bar.label_display = True\n",
    "bar.label_display_format = '.1f'\n",
    "bar.label_font_style = {'fill': 'white', 'font-size': '10px'}"
   ]
  },
  {
   "cell_type": "code",
   "execution_count": null,
   "metadata": {},
   "outputs": [],
   "source": [
    "# Changing opacities\n",
    "bar.opacities = [0.5, 0.2]"
   ]
  },
  {
   "cell_type": "code",
   "execution_count": null,
   "metadata": {},
   "outputs": [],
   "source": [
    "# Updating data\n",
    "bar.orientation = 'vertical'\n",
    "bar.opacities = [1]\n",
    "bar.y = np.arange(-5,5)"
   ]
  },
  {
   "cell_type": "markdown",
   "metadata": {},
   "source": [
    "### The interaction layer"
   ]
  },
  {
   "cell_type": "markdown",
   "metadata": {},
   "source": [
    "<span style=\"color: orange; font-size:16px\">BQPlot has an interaction layer which you can overlay on any chart type. These include:</span>\n",
    "\n",
    "1. BrushIntervalSelector\n",
    "2. FastIntervalSelector\n",
    "3. HandDraw (which we have seen)\n",
    "4. LassoSelector\n",
    "5. MultiSelector\n",
    "6. PanZoom\n",
    "\n",
    "Many others. Try them out!\n",
    "\n",
    "[BQplot github repo with examples](https://github.com/bqplot/bqplot)"
   ]
  },
  {
   "cell_type": "code",
   "execution_count": null,
   "metadata": {},
   "outputs": [],
   "source": [
    "# Callback for the selector\n",
    "def brush_callback(change):\n",
    "    if(not br_intsel.brushing):\n",
    "        html_readout.value = \"<h1 style='color:linen'>Selected indices: {}-{}</h1>\".format(br_intsel.selected[0],br_intsel.selected[1])\n",
    "        \n",
    "        \n",
    "# Chart\n",
    "x_ord = bqp.OrdinalScale()\n",
    "y_sc = bqp.LinearScale()\n",
    "\n",
    "bar = bqp.Bars(x=x_data, y=[y_data[:20], y_data_2[:20]], \n",
    "           scales={'x': x_ord, 'y': y_sc}, padding=0.2,\n",
    "           colors=bqp.CATEGORY10)\n",
    "\n",
    "br_intsel = bqp.interacts.BrushIntervalSelector(scale=x_ord, marks=[bar])\n",
    "br_intsel.observe(brush_callback, names=['selected'])\n",
    "br_intsel.observe(brush_callback, names=['brushing'])\n",
    "\n",
    "ax_x = bqp.Axis(scale=x_ord)\n",
    "ax_y = bqp.Axis(scale=y_sc, orientation='vertical', tick_format='0.2f')\n",
    "\n",
    "fig = bqp.Figure(marks=[bar], axes=[ax_x, ax_y], interaction=br_intsel)\n",
    "\n",
    "# Some widgetry\n",
    "html_readout = widgets.HTML(value=\"<h1 style='color:linen'>Selected indices will be displayed here</h1>\")\n",
    "widgets.VBox([html_readout, fig])"
   ]
  },
  {
   "cell_type": "markdown",
   "metadata": {},
   "source": [
    "Grouping can take different values!"
   ]
  },
  {
   "cell_type": "code",
   "execution_count": null,
   "metadata": {},
   "outputs": [],
   "source": [
    "# color_mode: {'auto', 'group', 'element', 'no_group'}\n",
    "bar.color_mode = 'group'"
   ]
  },
  {
   "cell_type": "code",
   "execution_count": null,
   "metadata": {},
   "outputs": [],
   "source": [
    "# color_mode: {'auto', 'group', 'element', 'no_group'}\n",
    "bar.color_mode = 'element'"
   ]
  },
  {
   "cell_type": "code",
   "execution_count": null,
   "metadata": {},
   "outputs": [],
   "source": [
    "# color_mode: {'auto', 'group', 'element', 'no_group'}\n",
    "bar.color_mode = 'no_group'"
   ]
  },
  {
   "cell_type": "markdown",
   "metadata": {},
   "source": [
    "<span style=\"color: orange; font-size:20px\">Thank you!</span>"
   ]
  }
 ],
 "metadata": {
  "kernelspec": {
   "display_name": "Python 3",
   "language": "python",
   "name": "python3"
  },
  "language_info": {
   "codemirror_mode": {
    "name": "ipython",
    "version": 3
   },
   "file_extension": ".py",
   "mimetype": "text/x-python",
   "name": "python",
   "nbconvert_exporter": "python",
   "pygments_lexer": "ipython3",
   "version": "3.8.5"
  }
 },
 "nbformat": 4,
 "nbformat_minor": 4
}
